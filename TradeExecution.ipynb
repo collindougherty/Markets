{
 "cells": [
  {
   "cell_type": "code",
   "execution_count": 10,
   "id": "d5a8a324",
   "metadata": {},
   "outputs": [],
   "source": [
    "import numpy as np;\n",
    "import pandas as pd;\n",
    "\n",
    "#Binance python integration library\n",
    "from binance.client import Client\n",
    "import config"
   ]
  },
  {
   "cell_type": "code",
   "execution_count": 27,
   "id": "072a756e",
   "metadata": {},
   "outputs": [],
   "source": [
    "# when I want to change this, need to do file>download as>.py>save to windows/users/colli\n",
    "\n",
    "symbol = \"BTCUSD\"\n",
    "asset = 'BTC'\n",
    "\n",
    "Stop = 21500\n",
    "Target = 30000\n",
    "\n",
    "AccumulationZoneNO_STOPS = 20000\n",
    "\n",
    "# value represents decimals required for asset purchase\n",
    "precision = 4\n",
    "\n",
    "# NewStop = 21700\n",
    "# NewTarget = 24500"
   ]
  },
  {
   "cell_type": "code",
   "execution_count": 12,
   "id": "adde311c",
   "metadata": {},
   "outputs": [
    {
     "name": "stdout",
     "output_type": "stream",
     "text": [
      "logged in\n"
     ]
    }
   ],
   "source": [
    "apiKey = \"yraM0G206IlWudMPhs5OYeDKvBFaQtExG3HvpkXhb6mNZ3tUCY2D32lCIUQDEXyU\"\n",
    "apiSecret = \"Ws4M63iwO270Oab9v5ETqmVtnZdEAY6TadqMOnNUbxales2t3kaN6pzBxLtF4Dxs\"\n",
    "\n",
    "client = Client(apiKey, apiSecret, tld='us')\n",
    "print(\"logged in\")"
   ]
  },
  {
   "cell_type": "code",
   "execution_count": 28,
   "id": "b5c743f1",
   "metadata": {},
   "outputs": [
    {
     "data": {
      "text/html": [
       "<div>\n",
       "<style scoped>\n",
       "    .dataframe tbody tr th:only-of-type {\n",
       "        vertical-align: middle;\n",
       "    }\n",
       "\n",
       "    .dataframe tbody tr th {\n",
       "        vertical-align: top;\n",
       "    }\n",
       "\n",
       "    .dataframe thead th {\n",
       "        text-align: right;\n",
       "    }\n",
       "</style>\n",
       "<table border=\"1\" class=\"dataframe\">\n",
       "  <thead>\n",
       "    <tr style=\"text-align: right;\">\n",
       "      <th></th>\n",
       "      <th>Time</th>\n",
       "      <th>Open</th>\n",
       "      <th>High</th>\n",
       "      <th>Low</th>\n",
       "      <th>Close</th>\n",
       "    </tr>\n",
       "  </thead>\n",
       "  <tbody>\n",
       "    <tr>\n",
       "      <th>0</th>\n",
       "      <td>2022-06-06 22:14:00</td>\n",
       "      <td>42.9357</td>\n",
       "      <td>42.9357</td>\n",
       "      <td>42.9357</td>\n",
       "      <td>42.9357</td>\n",
       "    </tr>\n",
       "  </tbody>\n",
       "</table>\n",
       "</div>"
      ],
      "text/plain": [
       "                 Time     Open     High      Low    Close\n",
       "0 2022-06-06 22:14:00  42.9357  42.9357  42.9357  42.9357"
      ]
     },
     "execution_count": 28,
     "metadata": {},
     "output_type": "execute_result"
    }
   ],
   "source": [
    "def getminutedata(symbol):\n",
    "    frame = pd.DataFrame(client.get_historical_klines(symbol,\n",
    "                                                        \"1m\",\n",
    "                                                        \"1 minute ago UTC\"))\n",
    "    frame = frame.iloc[:,:5]\n",
    "    frame.columns = ['Time', 'Open', 'High', 'Low', 'Close']\n",
    "    frame[['Open', 'High', 'Low', 'Close']] = frame[['Open', 'High', 'Low', 'Close']].astype(float)\n",
    "    frame.Time = pd.to_datetime(frame.Time, unit='ms')\n",
    "    return frame\n",
    "\n",
    "df = getminutedata(symbol)\n",
    "CurrentPrice = df['Close'].values[0]\n",
    "df"
   ]
  },
  {
   "cell_type": "code",
   "execution_count": 32,
   "id": "bd5768d0",
   "metadata": {},
   "outputs": [
    {
     "name": "stdout",
     "output_type": "stream",
     "text": [
      "1.38\n",
      "SOL\n",
      "1412.9262\n",
      "USD\n"
     ]
    }
   ],
   "source": [
    "account_info = client.get_account()\n",
    "balance = account_info['balances']\n",
    "\n",
    "balances = pd.DataFrame(balance)\n",
    "balances[['free', 'locked']] = balances[['free', 'locked']].astype(float)\n",
    "symbol_balance = balances.loc[balances['asset'] == asset, 'free'].iloc[0]\n",
    "symbol_balance = round(symbol_balance, precision)\n",
    "USD_balance = balances.loc[balances['asset'] == 'USD', 'free'].iloc[0]\n",
    "\n",
    "print(symbol_balance)\n",
    "print(asset)\n",
    "print(USD_balance) \n",
    "print(\"USD\")"
   ]
  },
  {
   "cell_type": "code",
   "execution_count": 33,
   "id": "631e8fef",
   "metadata": {},
   "outputs": [
    {
     "name": "stdout",
     "output_type": "stream",
     "text": [
      "Stop Loss Executed\n"
     ]
    }
   ],
   "source": [
    "# if price > target AND position > 0, sell at market\n",
    "# if price < stop loss AND position > 0, sell at market\n",
    "    \n",
    "if CurrentPrice < Stop and symbol_balance > 0.0003:\n",
    "    order = client.create_order(\n",
    "    symbol = symbol,\n",
    "    side = 'sell',\n",
    "    type = 'market',\n",
    "    quantity = symbol_balance,\n",
    "    #timeInForce = TIME_IN_FORCE_GTC,\n",
    "    #price = 0,\n",
    "    )\n",
    "    print(\"Stop Loss Executed\")\n",
    "    \n",
    "if CurrentPrice > Target and symbol_balance > 0.0003:\n",
    "    order = client.create_order(\n",
    "    symbol = symbol,\n",
    "    side = 'sell',\n",
    "    type = 'market',\n",
    "    quantity = symbol_balance,\n",
    "    #timeInForce = TIME_IN_FORCE_GTC,\n",
    "    #price = 0,\n",
    "    )\n",
    "    print(\"Take Profit Executed\")"
   ]
  },
  {
   "cell_type": "code",
   "execution_count": 23,
   "id": "fa5e6bc8",
   "metadata": {},
   "outputs": [
    {
     "name": "stdout",
     "output_type": "stream",
     "text": [
      "Asset Accumulated\n"
     ]
    }
   ],
   "source": [
    "#this is essentially a glorified limit order. only really useful if below stop\n",
    "\n",
    "buy_size = USD_balance*.98\n",
    "qty = buy_size/CurrentPrice\n",
    "qty = round(qty, precision)\n",
    "\n",
    "if CurrentPrice < AccumulationZoneNO_STOPS and symbol_balance < 0.0003:\n",
    "    order = client.create_order(\n",
    "    symbol = symbol,\n",
    "    side = 'buy',\n",
    "    type = 'market',\n",
    "    quantity = qty)\n",
    "    #timeInForce = TIME_IN_FORCE_GTC,\n",
    "    #price = 0,\n",
    "    \n",
    "    print(\"Asset Accumulated\")"
   ]
  }
 ],
 "metadata": {
  "kernelspec": {
   "display_name": "Python 3",
   "language": "python",
   "name": "python3"
  },
  "language_info": {
   "codemirror_mode": {
    "name": "ipython",
    "version": 3
   },
   "file_extension": ".py",
   "mimetype": "text/x-python",
   "name": "python",
   "nbconvert_exporter": "python",
   "pygments_lexer": "ipython3",
   "version": "3.8.8"
  }
 },
 "nbformat": 4,
 "nbformat_minor": 5
}
