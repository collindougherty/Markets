{
 "cells": [
  {
   "cell_type": "code",
   "execution_count": 56,
   "id": "bed29447-6ed5-4342-9062-4c282c19607e",
   "metadata": {},
   "outputs": [
    {
     "name": "stdout",
     "output_type": "stream",
     "text": [
      "The autoreload extension is already loaded. To reload it, use:\n",
      "  %reload_ext autoreload\n",
      "[*********************100%***********************]  1 of 1 completed\n"
     ]
    }
   ],
   "source": [
    "%load_ext autoreload\n",
    "%autoreload 2\n",
    "%matplotlib inline\n",
    "\n",
    "import pandas as pd\n",
    "import numpy as np\n",
    "import yfinance as yf\n",
    "import matplotlib.dates as mpl_dates\n",
    "import matplotlib.pyplot as plt\n",
    "\n",
    "import collin_risk as collin\n",
    "daily_close = collin.get_stock_close_data(stocks = ['BTC-USD'], start_date = '2021-01-01', end_date = '2022-08-13', interval = '1wk')"
   ]
  },
  {
   "cell_type": "code",
   "execution_count": 57,
   "id": "8b5ea8d9-f279-46d0-a0ac-f28ac2670cf3",
   "metadata": {},
   "outputs": [
    {
     "data": {
      "text/html": [
       "<div>\n",
       "<style scoped>\n",
       "    .dataframe tbody tr th:only-of-type {\n",
       "        vertical-align: middle;\n",
       "    }\n",
       "\n",
       "    .dataframe tbody tr th {\n",
       "        vertical-align: top;\n",
       "    }\n",
       "\n",
       "    .dataframe thead th {\n",
       "        text-align: right;\n",
       "    }\n",
       "</style>\n",
       "<table border=\"1\" class=\"dataframe\">\n",
       "  <thead>\n",
       "    <tr style=\"text-align: right;\">\n",
       "      <th></th>\n",
       "      <th>BTC-USD</th>\n",
       "    </tr>\n",
       "  </thead>\n",
       "  <tbody>\n",
       "    <tr>\n",
       "      <th>2021-01-01</th>\n",
       "      <td>39371.042969</td>\n",
       "    </tr>\n",
       "    <tr>\n",
       "      <th>2021-01-08</th>\n",
       "      <td>39187.328125</td>\n",
       "    </tr>\n",
       "    <tr>\n",
       "      <th>2021-01-15</th>\n",
       "      <td>30825.699219</td>\n",
       "    </tr>\n",
       "    <tr>\n",
       "      <th>2021-01-22</th>\n",
       "      <td>33466.097656</td>\n",
       "    </tr>\n",
       "    <tr>\n",
       "      <th>2021-01-29</th>\n",
       "      <td>36926.066406</td>\n",
       "    </tr>\n",
       "    <tr>\n",
       "      <th>...</th>\n",
       "      <td>...</td>\n",
       "    </tr>\n",
       "    <tr>\n",
       "      <th>2022-07-15</th>\n",
       "      <td>23164.628906</td>\n",
       "    </tr>\n",
       "    <tr>\n",
       "      <th>2022-07-22</th>\n",
       "      <td>23843.886719</td>\n",
       "    </tr>\n",
       "    <tr>\n",
       "      <th>2022-07-29</th>\n",
       "      <td>22630.957031</td>\n",
       "    </tr>\n",
       "    <tr>\n",
       "      <th>2022-08-05</th>\n",
       "      <td>23957.529297</td>\n",
       "    </tr>\n",
       "    <tr>\n",
       "      <th>2022-08-12</th>\n",
       "      <td>24424.068359</td>\n",
       "    </tr>\n",
       "  </tbody>\n",
       "</table>\n",
       "<p>85 rows × 1 columns</p>\n",
       "</div>"
      ],
      "text/plain": [
       "                 BTC-USD\n",
       "2021-01-01  39371.042969\n",
       "2021-01-08  39187.328125\n",
       "2021-01-15  30825.699219\n",
       "2021-01-22  33466.097656\n",
       "2021-01-29  36926.066406\n",
       "...                  ...\n",
       "2022-07-15  23164.628906\n",
       "2022-07-22  23843.886719\n",
       "2022-07-29  22630.957031\n",
       "2022-08-05  23957.529297\n",
       "2022-08-12  24424.068359\n",
       "\n",
       "[85 rows x 1 columns]"
      ]
     },
     "execution_count": 57,
     "metadata": {},
     "output_type": "execute_result"
    }
   ],
   "source": [
    "daily_close"
   ]
  },
  {
   "cell_type": "code",
   "execution_count": 58,
   "id": "6412651a-b490-4b7f-8007-78d3470a2075",
   "metadata": {},
   "outputs": [],
   "source": [
    "def isSupport(daily_close,i):\n",
    "  support = daily_close['BTC-USD'][i] < daily_close['BTC-USD'][i-1]  and daily_close['BTC-USD'][i] < daily_close['BTC-USD'][i+1] and daily_close['BTC-USD'][i+1] < daily_close['BTC-USD'][i+2] and daily_close['BTC-USD'][i-1] < daily_close['BTC-USD'][i-2]\n",
    "  return support"
   ]
  },
  {
   "cell_type": "code",
   "execution_count": 59,
   "id": "448cc5eb-a994-415e-a3e5-150e2323a443",
   "metadata": {},
   "outputs": [],
   "source": [
    "levels = []\n",
    "for i in range(2,daily_close.shape[0]-2):\n",
    "  if isSupport(daily_close,i):\n",
    "    levels.append((i,daily_close['BTC-USD'][i]))"
   ]
  },
  {
   "cell_type": "code",
   "execution_count": 60,
   "id": "62fe4ffd-fba8-4a38-83e2-2e3ff1a5cbfe",
   "metadata": {},
   "outputs": [
    {
     "data": {
      "text/plain": [
       "[(2, 30825.69921875),\n",
       " (27, 31780.73046875),\n",
       " (38, 43790.89453125),\n",
       " (55, 37138.234375)]"
      ]
     },
     "execution_count": 60,
     "metadata": {},
     "output_type": "execute_result"
    }
   ],
   "source": [
    "levels"
   ]
  },
  {
   "cell_type": "code",
   "execution_count": 61,
   "id": "2c99713d-9826-47b8-84ae-01dbfa70e5c1",
   "metadata": {},
   "outputs": [
    {
     "name": "stdout",
     "output_type": "stream",
     "text": [
      "[*********************100%***********************]  1 of 1 completed\n"
     ]
    }
   ],
   "source": [
    "data = yf.download(tickers = 'BTC-USD', start = '2021-01-01', end_date = '2022-08-13', interval = '1wk')"
   ]
  },
  {
   "cell_type": "code",
   "execution_count": 62,
   "id": "b8903d84-3bd6-4e4c-9059-66c34540b53c",
   "metadata": {},
   "outputs": [
    {
     "data": {
      "application/vnd.plotly.v1+json": {
       "config": {
        "plotlyServerURL": "https://plot.ly"
       },
       "data": [
        {
         "close": [
          39371.04296875,
          39187.328125,
          30825.69921875,
          33466.09765625,
          36926.06640625,
          47909.33203125,
          51679.796875,
          47093.8515625,
          48561.16796875,
          57805.12109375,
          57858.921875,
          51704.16015625,
          59095.80859375,
          58323.953125,
          63314.01171875,
          51762.2734375,
          53555.109375,
          56396.515625,
          49716.19140625,
          40782.73828125,
          38436.96875,
          39208.765625,
          36702.59765625,
          38053.50390625,
          34662.4375,
          33572.1171875,
          32877.37109375,
          31780.73046875,
          32313.10546875,
          40008.421875,
          40869.5546875,
          44428.2890625,
          46717.578125,
          46942.21875,
          49327.72265625,
          46391.421875,
          47783.359375,
          44895.09765625,
          43790.89453125,
          53805.984375,
          57321.5234375,
          62210.171875,
          60622.13671875,
          61452.23046875,
          64949.9609375,
          56942.13671875,
          57274.6796875,
          56477.81640625,
          47672.12109375,
          47665.42578125,
          50784.5390625,
          47178.125,
          43160.9296875,
          42591.5703125,
          40680.41796875,
          37138.234375,
          37154.6015625,
          43565.11328125,
          40538.01171875,
          38332.609375,
          42451.7890625,
          39437.4609375,
          40951.37890625,
          43960.93359375,
          45538.67578125,
          43503.84765625,
          39935.515625,
          40527.36328125,
          39773.828125,
          36575.140625,
          29047.751953125,
          30314.333984375,
          29267.224609375,
          30467.48828125,
          30111.998046875,
          20381.650390625,
          21085.876953125,
          19784.7265625,
          21637.587890625,
          20569.919921875,
          23164.62890625,
          23843.88671875,
          22630.95703125,
          23957.529296875,
          24424.068359375,
          24591.78515625
         ],
         "high": [
          40180.3671875,
          41946.73828125,
          39577.7109375,
          34802.7421875,
          38592.17578125,
          48463.46875,
          52533.9140625,
          58330.5703125,
          52535.13671875,
          58091.0625,
          61683.86328125,
          60031.28515625,
          59930.02734375,
          60267.1875,
          64863.09765625,
          63594.72265625,
          56227.20703125,
          58973.30859375,
          59519.35546875,
          51438.1171875,
          42172.171875,
          39478.953125,
          39242.484375,
          41295.26953125,
          38187.26171875,
          36542.109375,
          35937.56640625,
          34592.15625,
          32752.326171875,
          40816.0703125,
          42541.6796875,
          46735.6328125,
          48098.68359375,
          50482.078125,
          50343.421875,
          52853.765625,
          48486.828125,
          48791.78125,
          45080.4921875,
          55568.46484375,
          58478.734375,
          66930.390625,
          63729.32421875,
          64242.79296875,
          68789.625,
          66281.5703125,
          60004.42578125,
          59183.48046875,
          57482.16796875,
          50724.8671875,
          51332.33984375,
          51956.328125,
          48472.52734375,
          44278.421875,
          43724.671875,
          41060.52734375,
          39115.1328125,
          45661.171875,
          44667.21875,
          40929.15234375,
          45077.578125,
          42479.61328125,
          41465.453125,
          44131.85546875,
          48086.8359375,
          47313.4765625,
          43903.01953125,
          42893.58203125,
          40777.7578125,
          39902.94921875,
          36624.359375,
          31308.19140625,
          30664.9765625,
          32249.86328125,
          31693.291015625,
          30245.80859375,
          21620.62890625,
          21783.724609375,
          21771.81640625,
          22314.94140625,
          24196.818359375,
          24110.470703125,
          24572.580078125,
          24822.62890625,
          24860.05078125,
          24602.869140625
         ],
         "low": [
          28722.755859375,
          30549.599609375,
          30250.75,
          28953.373046875,
          32064.814453125,
          36658.76171875,
          46347.4765625,
          45290.58984375,
          43241.6171875,
          46542.515625,
          53555.02734375,
          50856.5703125,
          51579.85546875,
          55604.0234375,
          57807.86328125,
          50583.8125,
          47159.484375,
          52969.0546875,
          46980.01953125,
          30681.49609375,
          31227.33984375,
          33520.73828125,
          31114.443359375,
          34728.19140625,
          28893.62109375,
          30184.501953125,
          32133.18359375,
          31175.708984375,
          29360.955078125,
          32057.892578125,
          37458.00390625,
          39932.1796875,
          43998.31640625,
          46405.78125,
          46394.28125,
          43285.20703125,
          43591.3203125,
          39787.609375,
          40829.66796875,
          43320.0234375,
          53688.0546875,
          56868.14453125,
          58206.91796875,
          59695.18359375,
          60163.78125,
          56550.79296875,
          55632.76171875,
          53569.765625,
          42874.6171875,
          45894.84765625,
          45579.80859375,
          46060.3125,
          42645.5390625,
          39796.5703125,
          40672.82421875,
          33184.05859375,
          36211.109375,
          37093.62890625,
          40249.37109375,
          34459.21875,
          37268.9765625,
          37260.203125,
          37680.734375,
          40302.3984375,
          43706.28515625,
          42899.90625,
          39373.05859375,
          38696.19140625,
          37884.984375,
          35856.515625,
          26350.490234375,
          28702.91015625,
          28261.90625,
          28326.61328125,
          29311.68359375,
          20178.376953125,
          17708.623046875,
          18729.65625,
          18966.951171875,
          18999.953125,
          20397,
          20776.81640625,
          22485.701171875,
          22612.177734375,
          23657.265625,
          24382.48828125
         ],
         "name": "market data",
         "open": [
          28994.009765625,
          39381.765625,
          39156.70703125,
          30817.625,
          34318.671875,
          36931.546875,
          47877.03515625,
          51675.98046875,
          47180.46484375,
          48527.03125,
          57821.21875,
          57850.44140625,
          51683.01171875,
          59098.87890625,
          58326.5625,
          63258.50390625,
          51739.80859375,
          53568.6640625,
          56413.953125,
          49682.98046875,
          40596.94921875,
          38507.08203125,
          39242.484375,
          36697.03125,
          38099.4765625,
          34659.10546875,
          33549.6015625,
          32861.671875,
          31841.55078125,
          32305.958984375,
          40027.484375,
          40865.8671875,
          44439.69140625,
          46723.12109375,
          46894.5546875,
          49288.25,
          46396.6640625,
          47771.00390625,
          44894.30078125,
          43816.7421875,
          53802.14453125,
          57345.90234375,
          62237.890625,
          60624.87109375,
          61460.078125,
          64863.98046875,
          56896.12890625,
          58960.28515625,
          56509.1640625,
          47642.14453125,
          47653.73046875,
          50806.05078125,
          47169.37109375,
          43153.5703125,
          42598.87109375,
          40699.60546875,
          37128.4453125,
          37149.265625,
          43571.12890625,
          40552.1328125,
          38333.74609375,
          42458.140625,
          39439.96875,
          40944.83984375,
          43964.546875,
          45554.1640625,
          43505.13671875,
          39939.40234375,
          40525.86328125,
          39768.6171875,
          36573.18359375,
          29030.91015625,
          30311.119140625,
          29251.140625,
          30467.806640625,
          30110.330078125,
          20385.71875,
          21084.6484375,
          19820.470703125,
          21637.154296875,
          20573.15625,
          23163.751953125,
          23845.212890625,
          22626.833984375,
          23957.203125,
          24442.80078125
         ],
         "type": "candlestick",
         "x": [
          "2021-01-01T00:00:00",
          "2021-01-08T00:00:00",
          "2021-01-15T00:00:00",
          "2021-01-22T00:00:00",
          "2021-01-29T00:00:00",
          "2021-02-05T00:00:00",
          "2021-02-12T00:00:00",
          "2021-02-19T00:00:00",
          "2021-02-26T00:00:00",
          "2021-03-05T00:00:00",
          "2021-03-12T00:00:00",
          "2021-03-19T00:00:00",
          "2021-03-26T00:00:00",
          "2021-04-02T00:00:00",
          "2021-04-09T00:00:00",
          "2021-04-16T00:00:00",
          "2021-04-23T00:00:00",
          "2021-04-30T00:00:00",
          "2021-05-07T00:00:00",
          "2021-05-14T00:00:00",
          "2021-05-21T00:00:00",
          "2021-05-28T00:00:00",
          "2021-06-04T00:00:00",
          "2021-06-11T00:00:00",
          "2021-06-18T00:00:00",
          "2021-06-25T00:00:00",
          "2021-07-02T00:00:00",
          "2021-07-09T00:00:00",
          "2021-07-16T00:00:00",
          "2021-07-23T00:00:00",
          "2021-07-30T00:00:00",
          "2021-08-06T00:00:00",
          "2021-08-13T00:00:00",
          "2021-08-20T00:00:00",
          "2021-08-27T00:00:00",
          "2021-09-03T00:00:00",
          "2021-09-10T00:00:00",
          "2021-09-17T00:00:00",
          "2021-09-24T00:00:00",
          "2021-10-01T00:00:00",
          "2021-10-08T00:00:00",
          "2021-10-15T00:00:00",
          "2021-10-22T00:00:00",
          "2021-10-29T00:00:00",
          "2021-11-05T00:00:00",
          "2021-11-12T00:00:00",
          "2021-11-19T00:00:00",
          "2021-11-26T00:00:00",
          "2021-12-03T00:00:00",
          "2021-12-10T00:00:00",
          "2021-12-17T00:00:00",
          "2021-12-24T00:00:00",
          "2021-12-31T00:00:00",
          "2022-01-07T00:00:00",
          "2022-01-14T00:00:00",
          "2022-01-21T00:00:00",
          "2022-01-28T00:00:00",
          "2022-02-04T00:00:00",
          "2022-02-11T00:00:00",
          "2022-02-18T00:00:00",
          "2022-02-25T00:00:00",
          "2022-03-04T00:00:00",
          "2022-03-11T00:00:00",
          "2022-03-18T00:00:00",
          "2022-03-25T00:00:00",
          "2022-04-01T00:00:00",
          "2022-04-08T00:00:00",
          "2022-04-15T00:00:00",
          "2022-04-22T00:00:00",
          "2022-04-29T00:00:00",
          "2022-05-06T00:00:00",
          "2022-05-13T00:00:00",
          "2022-05-20T00:00:00",
          "2022-05-27T00:00:00",
          "2022-06-03T00:00:00",
          "2022-06-10T00:00:00",
          "2022-06-17T00:00:00",
          "2022-06-24T00:00:00",
          "2022-07-01T00:00:00",
          "2022-07-08T00:00:00",
          "2022-07-15T00:00:00",
          "2022-07-22T00:00:00",
          "2022-07-29T00:00:00",
          "2022-08-05T00:00:00",
          "2022-08-12T00:00:00",
          "2022-08-14T00:00:00"
         ]
        }
       ],
       "layout": {
        "autosize": true,
        "template": {
         "data": {
          "bar": [
           {
            "error_x": {
             "color": "#2a3f5f"
            },
            "error_y": {
             "color": "#2a3f5f"
            },
            "marker": {
             "line": {
              "color": "#E5ECF6",
              "width": 0.5
             },
             "pattern": {
              "fillmode": "overlay",
              "size": 10,
              "solidity": 0.2
             }
            },
            "type": "bar"
           }
          ],
          "barpolar": [
           {
            "marker": {
             "line": {
              "color": "#E5ECF6",
              "width": 0.5
             },
             "pattern": {
              "fillmode": "overlay",
              "size": 10,
              "solidity": 0.2
             }
            },
            "type": "barpolar"
           }
          ],
          "carpet": [
           {
            "aaxis": {
             "endlinecolor": "#2a3f5f",
             "gridcolor": "white",
             "linecolor": "white",
             "minorgridcolor": "white",
             "startlinecolor": "#2a3f5f"
            },
            "baxis": {
             "endlinecolor": "#2a3f5f",
             "gridcolor": "white",
             "linecolor": "white",
             "minorgridcolor": "white",
             "startlinecolor": "#2a3f5f"
            },
            "type": "carpet"
           }
          ],
          "choropleth": [
           {
            "colorbar": {
             "outlinewidth": 0,
             "ticks": ""
            },
            "type": "choropleth"
           }
          ],
          "contour": [
           {
            "colorbar": {
             "outlinewidth": 0,
             "ticks": ""
            },
            "colorscale": [
             [
              0,
              "#0d0887"
             ],
             [
              0.1111111111111111,
              "#46039f"
             ],
             [
              0.2222222222222222,
              "#7201a8"
             ],
             [
              0.3333333333333333,
              "#9c179e"
             ],
             [
              0.4444444444444444,
              "#bd3786"
             ],
             [
              0.5555555555555556,
              "#d8576b"
             ],
             [
              0.6666666666666666,
              "#ed7953"
             ],
             [
              0.7777777777777778,
              "#fb9f3a"
             ],
             [
              0.8888888888888888,
              "#fdca26"
             ],
             [
              1,
              "#f0f921"
             ]
            ],
            "type": "contour"
           }
          ],
          "contourcarpet": [
           {
            "colorbar": {
             "outlinewidth": 0,
             "ticks": ""
            },
            "type": "contourcarpet"
           }
          ],
          "heatmap": [
           {
            "colorbar": {
             "outlinewidth": 0,
             "ticks": ""
            },
            "colorscale": [
             [
              0,
              "#0d0887"
             ],
             [
              0.1111111111111111,
              "#46039f"
             ],
             [
              0.2222222222222222,
              "#7201a8"
             ],
             [
              0.3333333333333333,
              "#9c179e"
             ],
             [
              0.4444444444444444,
              "#bd3786"
             ],
             [
              0.5555555555555556,
              "#d8576b"
             ],
             [
              0.6666666666666666,
              "#ed7953"
             ],
             [
              0.7777777777777778,
              "#fb9f3a"
             ],
             [
              0.8888888888888888,
              "#fdca26"
             ],
             [
              1,
              "#f0f921"
             ]
            ],
            "type": "heatmap"
           }
          ],
          "heatmapgl": [
           {
            "colorbar": {
             "outlinewidth": 0,
             "ticks": ""
            },
            "colorscale": [
             [
              0,
              "#0d0887"
             ],
             [
              0.1111111111111111,
              "#46039f"
             ],
             [
              0.2222222222222222,
              "#7201a8"
             ],
             [
              0.3333333333333333,
              "#9c179e"
             ],
             [
              0.4444444444444444,
              "#bd3786"
             ],
             [
              0.5555555555555556,
              "#d8576b"
             ],
             [
              0.6666666666666666,
              "#ed7953"
             ],
             [
              0.7777777777777778,
              "#fb9f3a"
             ],
             [
              0.8888888888888888,
              "#fdca26"
             ],
             [
              1,
              "#f0f921"
             ]
            ],
            "type": "heatmapgl"
           }
          ],
          "histogram": [
           {
            "marker": {
             "pattern": {
              "fillmode": "overlay",
              "size": 10,
              "solidity": 0.2
             }
            },
            "type": "histogram"
           }
          ],
          "histogram2d": [
           {
            "colorbar": {
             "outlinewidth": 0,
             "ticks": ""
            },
            "colorscale": [
             [
              0,
              "#0d0887"
             ],
             [
              0.1111111111111111,
              "#46039f"
             ],
             [
              0.2222222222222222,
              "#7201a8"
             ],
             [
              0.3333333333333333,
              "#9c179e"
             ],
             [
              0.4444444444444444,
              "#bd3786"
             ],
             [
              0.5555555555555556,
              "#d8576b"
             ],
             [
              0.6666666666666666,
              "#ed7953"
             ],
             [
              0.7777777777777778,
              "#fb9f3a"
             ],
             [
              0.8888888888888888,
              "#fdca26"
             ],
             [
              1,
              "#f0f921"
             ]
            ],
            "type": "histogram2d"
           }
          ],
          "histogram2dcontour": [
           {
            "colorbar": {
             "outlinewidth": 0,
             "ticks": ""
            },
            "colorscale": [
             [
              0,
              "#0d0887"
             ],
             [
              0.1111111111111111,
              "#46039f"
             ],
             [
              0.2222222222222222,
              "#7201a8"
             ],
             [
              0.3333333333333333,
              "#9c179e"
             ],
             [
              0.4444444444444444,
              "#bd3786"
             ],
             [
              0.5555555555555556,
              "#d8576b"
             ],
             [
              0.6666666666666666,
              "#ed7953"
             ],
             [
              0.7777777777777778,
              "#fb9f3a"
             ],
             [
              0.8888888888888888,
              "#fdca26"
             ],
             [
              1,
              "#f0f921"
             ]
            ],
            "type": "histogram2dcontour"
           }
          ],
          "mesh3d": [
           {
            "colorbar": {
             "outlinewidth": 0,
             "ticks": ""
            },
            "type": "mesh3d"
           }
          ],
          "parcoords": [
           {
            "line": {
             "colorbar": {
              "outlinewidth": 0,
              "ticks": ""
             }
            },
            "type": "parcoords"
           }
          ],
          "pie": [
           {
            "automargin": true,
            "type": "pie"
           }
          ],
          "scatter": [
           {
            "fillpattern": {
             "fillmode": "overlay",
             "size": 10,
             "solidity": 0.2
            },
            "type": "scatter"
           }
          ],
          "scatter3d": [
           {
            "line": {
             "colorbar": {
              "outlinewidth": 0,
              "ticks": ""
             }
            },
            "marker": {
             "colorbar": {
              "outlinewidth": 0,
              "ticks": ""
             }
            },
            "type": "scatter3d"
           }
          ],
          "scattercarpet": [
           {
            "marker": {
             "colorbar": {
              "outlinewidth": 0,
              "ticks": ""
             }
            },
            "type": "scattercarpet"
           }
          ],
          "scattergeo": [
           {
            "marker": {
             "colorbar": {
              "outlinewidth": 0,
              "ticks": ""
             }
            },
            "type": "scattergeo"
           }
          ],
          "scattergl": [
           {
            "marker": {
             "colorbar": {
              "outlinewidth": 0,
              "ticks": ""
             }
            },
            "type": "scattergl"
           }
          ],
          "scattermapbox": [
           {
            "marker": {
             "colorbar": {
              "outlinewidth": 0,
              "ticks": ""
             }
            },
            "type": "scattermapbox"
           }
          ],
          "scatterpolar": [
           {
            "marker": {
             "colorbar": {
              "outlinewidth": 0,
              "ticks": ""
             }
            },
            "type": "scatterpolar"
           }
          ],
          "scatterpolargl": [
           {
            "marker": {
             "colorbar": {
              "outlinewidth": 0,
              "ticks": ""
             }
            },
            "type": "scatterpolargl"
           }
          ],
          "scatterternary": [
           {
            "marker": {
             "colorbar": {
              "outlinewidth": 0,
              "ticks": ""
             }
            },
            "type": "scatterternary"
           }
          ],
          "surface": [
           {
            "colorbar": {
             "outlinewidth": 0,
             "ticks": ""
            },
            "colorscale": [
             [
              0,
              "#0d0887"
             ],
             [
              0.1111111111111111,
              "#46039f"
             ],
             [
              0.2222222222222222,
              "#7201a8"
             ],
             [
              0.3333333333333333,
              "#9c179e"
             ],
             [
              0.4444444444444444,
              "#bd3786"
             ],
             [
              0.5555555555555556,
              "#d8576b"
             ],
             [
              0.6666666666666666,
              "#ed7953"
             ],
             [
              0.7777777777777778,
              "#fb9f3a"
             ],
             [
              0.8888888888888888,
              "#fdca26"
             ],
             [
              1,
              "#f0f921"
             ]
            ],
            "type": "surface"
           }
          ],
          "table": [
           {
            "cells": {
             "fill": {
              "color": "#EBF0F8"
             },
             "line": {
              "color": "white"
             }
            },
            "header": {
             "fill": {
              "color": "#C8D4E3"
             },
             "line": {
              "color": "white"
             }
            },
            "type": "table"
           }
          ]
         },
         "layout": {
          "annotationdefaults": {
           "arrowcolor": "#2a3f5f",
           "arrowhead": 0,
           "arrowwidth": 1
          },
          "autotypenumbers": "strict",
          "coloraxis": {
           "colorbar": {
            "outlinewidth": 0,
            "ticks": ""
           }
          },
          "colorscale": {
           "diverging": [
            [
             0,
             "#8e0152"
            ],
            [
             0.1,
             "#c51b7d"
            ],
            [
             0.2,
             "#de77ae"
            ],
            [
             0.3,
             "#f1b6da"
            ],
            [
             0.4,
             "#fde0ef"
            ],
            [
             0.5,
             "#f7f7f7"
            ],
            [
             0.6,
             "#e6f5d0"
            ],
            [
             0.7,
             "#b8e186"
            ],
            [
             0.8,
             "#7fbc41"
            ],
            [
             0.9,
             "#4d9221"
            ],
            [
             1,
             "#276419"
            ]
           ],
           "sequential": [
            [
             0,
             "#0d0887"
            ],
            [
             0.1111111111111111,
             "#46039f"
            ],
            [
             0.2222222222222222,
             "#7201a8"
            ],
            [
             0.3333333333333333,
             "#9c179e"
            ],
            [
             0.4444444444444444,
             "#bd3786"
            ],
            [
             0.5555555555555556,
             "#d8576b"
            ],
            [
             0.6666666666666666,
             "#ed7953"
            ],
            [
             0.7777777777777778,
             "#fb9f3a"
            ],
            [
             0.8888888888888888,
             "#fdca26"
            ],
            [
             1,
             "#f0f921"
            ]
           ],
           "sequentialminus": [
            [
             0,
             "#0d0887"
            ],
            [
             0.1111111111111111,
             "#46039f"
            ],
            [
             0.2222222222222222,
             "#7201a8"
            ],
            [
             0.3333333333333333,
             "#9c179e"
            ],
            [
             0.4444444444444444,
             "#bd3786"
            ],
            [
             0.5555555555555556,
             "#d8576b"
            ],
            [
             0.6666666666666666,
             "#ed7953"
            ],
            [
             0.7777777777777778,
             "#fb9f3a"
            ],
            [
             0.8888888888888888,
             "#fdca26"
            ],
            [
             1,
             "#f0f921"
            ]
           ]
          },
          "colorway": [
           "#636efa",
           "#EF553B",
           "#00cc96",
           "#ab63fa",
           "#FFA15A",
           "#19d3f3",
           "#FF6692",
           "#B6E880",
           "#FF97FF",
           "#FECB52"
          ],
          "font": {
           "color": "#2a3f5f"
          },
          "geo": {
           "bgcolor": "white",
           "lakecolor": "white",
           "landcolor": "#E5ECF6",
           "showlakes": true,
           "showland": true,
           "subunitcolor": "white"
          },
          "hoverlabel": {
           "align": "left"
          },
          "hovermode": "closest",
          "mapbox": {
           "style": "light"
          },
          "paper_bgcolor": "white",
          "plot_bgcolor": "#E5ECF6",
          "polar": {
           "angularaxis": {
            "gridcolor": "white",
            "linecolor": "white",
            "ticks": ""
           },
           "bgcolor": "#E5ECF6",
           "radialaxis": {
            "gridcolor": "white",
            "linecolor": "white",
            "ticks": ""
           }
          },
          "scene": {
           "xaxis": {
            "backgroundcolor": "#E5ECF6",
            "gridcolor": "white",
            "gridwidth": 2,
            "linecolor": "white",
            "showbackground": true,
            "ticks": "",
            "zerolinecolor": "white"
           },
           "yaxis": {
            "backgroundcolor": "#E5ECF6",
            "gridcolor": "white",
            "gridwidth": 2,
            "linecolor": "white",
            "showbackground": true,
            "ticks": "",
            "zerolinecolor": "white"
           },
           "zaxis": {
            "backgroundcolor": "#E5ECF6",
            "gridcolor": "white",
            "gridwidth": 2,
            "linecolor": "white",
            "showbackground": true,
            "ticks": "",
            "zerolinecolor": "white"
           }
          },
          "shapedefaults": {
           "line": {
            "color": "#2a3f5f"
           }
          },
          "ternary": {
           "aaxis": {
            "gridcolor": "white",
            "linecolor": "white",
            "ticks": ""
           },
           "baxis": {
            "gridcolor": "white",
            "linecolor": "white",
            "ticks": ""
           },
           "bgcolor": "#E5ECF6",
           "caxis": {
            "gridcolor": "white",
            "linecolor": "white",
            "ticks": ""
           }
          },
          "title": {
           "x": 0.05
          },
          "xaxis": {
           "automargin": true,
           "gridcolor": "white",
           "linecolor": "white",
           "ticks": "",
           "title": {
            "standoff": 15
           },
           "zerolinecolor": "white",
           "zerolinewidth": 2
          },
          "yaxis": {
           "automargin": true,
           "gridcolor": "white",
           "linecolor": "white",
           "ticks": "",
           "title": {
            "standoff": 15
           },
           "zerolinecolor": "white",
           "zerolinewidth": 2
          }
         }
        },
        "title": {
         "text": "Bitcoin"
        },
        "xaxis": {
         "autorange": true,
         "range": [
          "2020-12-31",
          "2022-08-15"
         ],
         "rangeselector": {
          "buttons": [
           {
            "count": 15,
            "label": "15m",
            "step": "minute",
            "stepmode": "backward"
           },
           {
            "count": 45,
            "label": "45m",
            "step": "minute",
            "stepmode": "backward"
           },
           {
            "count": 1,
            "label": "HTD",
            "step": "hour",
            "stepmode": "todate"
           },
           {
            "count": 2,
            "label": "2h",
            "step": "hour",
            "stepmode": "backward"
           },
           {
            "step": "all"
           }
          ]
         },
         "rangeslider": {
          "visible": false,
          "yaxis": {}
         },
         "type": "date"
        },
        "yaxis": {
         "autorange": true,
         "range": [
          14870.789605034723,
          71627.45844184028
         ],
         "title": {
          "text": "Price in USD"
         }
        }
       }
      },
      "image/png": "[encoded data removed]",
      "text/html": [
       "<div>                            <div id=\"9b3079c2-488b-44df-b657-dff4f554a9e7\" class=\"plotly-graph-div\" style=\"height:525px; width:100%;\"></div>            <script type=\"text/javascript\">                require([\"plotly\"], function(Plotly) {                    window.PLOTLYENV=window.PLOTLYENV || {};                                    if (document.getElementById(\"9b3079c2-488b-44df-b657-dff4f554a9e7\")) {                    Plotly.newPlot(                        \"9b3079c2-488b-44df-b657-dff4f554a9e7\",                        [{\"close\":[39371.04296875,39187.328125,30825.69921875,33466.09765625,36926.06640625,47909.33203125,51679.796875,47093.8515625,48561.16796875,57805.12109375,57858.921875,51704.16015625,59095.80859375,58323.953125,63314.01171875,51762.2734375,53555.109375,56396.515625,49716.19140625,40782.73828125,38436.96875,39208.765625,36702.59765625,38053.50390625,34662.4375,33572.1171875,32877.37109375,31780.73046875,32313.10546875,40008.421875,40869.5546875,44428.2890625,46717.578125,46942.21875,49327.72265625,46391.421875,47783.359375,44895.09765625,43790.89453125,53805.984375,57321.5234375,62210.171875,60622.13671875,61452.23046875,64949.9609375,56942.13671875,57274.6796875,56477.81640625,47672.12109375,47665.42578125,50784.5390625,47178.125,43160.9296875,42591.5703125,40680.41796875,37138.234375,37154.6015625,43565.11328125,40538.01171875,38332.609375,42451.7890625,39437.4609375,40951.37890625,43960.93359375,45538.67578125,43503.84765625,39935.515625,40527.36328125,39773.828125,36575.140625,29047.751953125,30314.333984375,29267.224609375,30467.48828125,30111.998046875,20381.650390625,21085.876953125,19784.7265625,21637.587890625,20569.919921875,23164.62890625,23843.88671875,22630.95703125,23957.529296875,24424.068359375,24591.78515625],\"high\":[40180.3671875,41946.73828125,39577.7109375,34802.7421875,38592.17578125,48463.46875,52533.9140625,58330.5703125,52535.13671875,58091.0625,61683.86328125,60031.28515625,59930.02734375,60267.1875,64863.09765625,63594.72265625,56227.20703125,58973.30859375,59519.35546875,51438.1171875,42172.171875,39478.953125,39242.484375,41295.26953125,38187.26171875,36542.109375,35937.56640625,34592.15625,32752.326171875,40816.0703125,42541.6796875,46735.6328125,48098.68359375,50482.078125,50343.421875,52853.765625,48486.828125,48791.78125,45080.4921875,55568.46484375,58478.734375,66930.390625,63729.32421875,64242.79296875,68789.625,66281.5703125,60004.42578125,59183.48046875,57482.16796875,50724.8671875,51332.33984375,51956.328125,48472.52734375,44278.421875,43724.671875,41060.52734375,39115.1328125,45661.171875,44667.21875,40929.15234375,45077.578125,42479.61328125,41465.453125,44131.85546875,48086.8359375,47313.4765625,43903.01953125,42893.58203125,40777.7578125,39902.94921875,36624.359375,31308.19140625,30664.9765625,32249.86328125,31693.291015625,30245.80859375,21620.62890625,21783.724609375,21771.81640625,22314.94140625,24196.818359375,24110.470703125,24572.580078125,24822.62890625,24860.05078125,24602.869140625],\"low\":[28722.755859375,30549.599609375,30250.75,28953.373046875,32064.814453125,36658.76171875,46347.4765625,45290.58984375,43241.6171875,46542.515625,53555.02734375,50856.5703125,51579.85546875,55604.0234375,57807.86328125,50583.8125,47159.484375,52969.0546875,46980.01953125,30681.49609375,31227.33984375,33520.73828125,31114.443359375,34728.19140625,28893.62109375,30184.501953125,32133.18359375,31175.708984375,29360.955078125,32057.892578125,37458.00390625,39932.1796875,43998.31640625,46405.78125,46394.28125,43285.20703125,43591.3203125,39787.609375,40829.66796875,43320.0234375,53688.0546875,56868.14453125,58206.91796875,59695.18359375,60163.78125,56550.79296875,55632.76171875,53569.765625,42874.6171875,45894.84765625,45579.80859375,46060.3125,42645.5390625,39796.5703125,40672.82421875,33184.05859375,36211.109375,37093.62890625,40249.37109375,34459.21875,37268.9765625,37260.203125,37680.734375,40302.3984375,43706.28515625,42899.90625,39373.05859375,38696.19140625,37884.984375,35856.515625,26350.490234375,28702.91015625,28261.90625,28326.61328125,29311.68359375,20178.376953125,17708.623046875,18729.65625,18966.951171875,18999.953125,20397.0,20776.81640625,22485.701171875,22612.177734375,23657.265625,24382.48828125],\"name\":\"market data\",\"open\":[28994.009765625,39381.765625,39156.70703125,30817.625,34318.671875,36931.546875,47877.03515625,51675.98046875,47180.46484375,48527.03125,57821.21875,57850.44140625,51683.01171875,59098.87890625,58326.5625,63258.50390625,51739.80859375,53568.6640625,56413.953125,49682.98046875,40596.94921875,38507.08203125,39242.484375,36697.03125,38099.4765625,34659.10546875,33549.6015625,32861.671875,31841.55078125,32305.958984375,40027.484375,40865.8671875,44439.69140625,46723.12109375,46894.5546875,49288.25,46396.6640625,47771.00390625,44894.30078125,43816.7421875,53802.14453125,57345.90234375,62237.890625,60624.87109375,61460.078125,64863.98046875,56896.12890625,58960.28515625,56509.1640625,47642.14453125,47653.73046875,50806.05078125,47169.37109375,43153.5703125,42598.87109375,40699.60546875,37128.4453125,37149.265625,43571.12890625,40552.1328125,38333.74609375,42458.140625,39439.96875,40944.83984375,43964.546875,45554.1640625,43505.13671875,39939.40234375,40525.86328125,39768.6171875,36573.18359375,29030.91015625,30311.119140625,29251.140625,30467.806640625,30110.330078125,20385.71875,21084.6484375,19820.470703125,21637.154296875,20573.15625,23163.751953125,23845.212890625,22626.833984375,23957.203125,24442.80078125],\"x\":[\"2021-01-01T00:00:00\",\"2021-01-08T00:00:00\",\"2021-01-15T00:00:00\",\"2021-01-22T00:00:00\",\"2021-01-29T00:00:00\",\"2021-02-05T00:00:00\",\"2021-02-12T00:00:00\",\"2021-02-19T00:00:00\",\"2021-02-26T00:00:00\",\"2021-03-05T00:00:00\",\"2021-03-12T00:00:00\",\"2021-03-19T00:00:00\",\"2021-03-26T00:00:00\",\"2021-04-02T00:00:00\",\"2021-04-09T00:00:00\",\"2021-04-16T00:00:00\",\"2021-04-23T00:00:00\",\"2021-04-30T00:00:00\",\"2021-05-07T00:00:00\",\"2021-05-14T00:00:00\",\"2021-05-21T00:00:00\",\"2021-05-28T00:00:00\",\"2021-06-04T00:00:00\",\"2021-06-11T00:00:00\",\"2021-06-18T00:00:00\",\"2021-06-25T00:00:00\",\"2021-07-02T00:00:00\",\"2021-07-09T00:00:00\",\"2021-07-16T00:00:00\",\"2021-07-23T00:00:00\",\"2021-07-30T00:00:00\",\"2021-08-06T00:00:00\",\"2021-08-13T00:00:00\",\"2021-08-20T00:00:00\",\"2021-08-27T00:00:00\",\"2021-09-03T00:00:00\",\"2021-09-10T00:00:00\",\"2021-09-17T00:00:00\",\"2021-09-24T00:00:00\",\"2021-10-01T00:00:00\",\"2021-10-08T00:00:00\",\"2021-10-15T00:00:00\",\"2021-10-22T00:00:00\",\"2021-10-29T00:00:00\",\"2021-11-05T00:00:00\",\"2021-11-12T00:00:00\",\"2021-11-19T00:00:00\",\"2021-11-26T00:00:00\",\"2021-12-03T00:00:00\",\"2021-12-10T00:00:00\",\"2021-12-17T00:00:00\",\"2021-12-24T00:00:00\",\"2021-12-31T00:00:00\",\"2022-01-07T00:00:00\",\"2022-01-14T00:00:00\",\"2022-01-21T00:00:00\",\"2022-01-28T00:00:00\",\"2022-02-04T00:00:00\",\"2022-02-11T00:00:00\",\"2022-02-18T00:00:00\",\"2022-02-25T00:00:00\",\"2022-03-04T00:00:00\",\"2022-03-11T00:00:00\",\"2022-03-18T00:00:00\",\"2022-03-25T00:00:00\",\"2022-04-01T00:00:00\",\"2022-04-08T00:00:00\",\"2022-04-15T00:00:00\",\"2022-04-22T00:00:00\",\"2022-04-29T00:00:00\",\"2022-05-06T00:00:00\",\"2022-05-13T00:00:00\",\"2022-05-20T00:00:00\",\"2022-05-27T00:00:00\",\"2022-06-03T00:00:00\",\"2022-06-10T00:00:00\",\"2022-06-17T00:00:00\",\"2022-06-24T00:00:00\",\"2022-07-01T00:00:00\",\"2022-07-08T00:00:00\",\"2022-07-15T00:00:00\",\"2022-07-22T00:00:00\",\"2022-07-29T00:00:00\",\"2022-08-05T00:00:00\",\"2022-08-12T00:00:00\",\"2022-08-14T00:00:00\"],\"type\":\"candlestick\"}],                        {\"template\":{\"data\":{\"histogram2dcontour\":[{\"type\":\"histogram2dcontour\",\"colorbar\":{\"outlinewidth\":0,\"ticks\":\"\"},\"colorscale\":[[0.0,\"#0d0887\"],[0.1111111111111111,\"#46039f\"],[0.2222222222222222,\"#7201a8\"],[0.3333333333333333,\"#9c179e\"],[0.4444444444444444,\"#bd3786\"],[0.5555555555555556,\"#d8576b\"],[0.6666666666666666,\"#ed7953\"],[0.7777777777777778,\"#fb9f3a\"],[0.8888888888888888,\"#fdca26\"],[1.0,\"#f0f921\"]]}],\"choropleth\":[{\"type\":\"choropleth\",\"colorbar\":{\"outlinewidth\":0,\"ticks\":\"\"}}],\"histogram2d\":[{\"type\":\"histogram2d\",\"colorbar\":{\"outlinewidth\":0,\"ticks\":\"\"},\"colorscale\":[[0.0,\"#0d0887\"],[0.1111111111111111,\"#46039f\"],[0.2222222222222222,\"#7201a8\"],[0.3333333333333333,\"#9c179e\"],[0.4444444444444444,\"#bd3786\"],[0.5555555555555556,\"#d8576b\"],[0.6666666666666666,\"#ed7953\"],[0.7777777777777778,\"#fb9f3a\"],[0.8888888888888888,\"#fdca26\"],[1.0,\"#f0f921\"]]}],\"heatmap\":[{\"type\":\"heatmap\",\"colorbar\":{\"outlinewidth\":0,\"ticks\":\"\"},\"colorscale\":[[0.0,\"#0d0887\"],[0.1111111111111111,\"#46039f\"],[0.2222222222222222,\"#7201a8\"],[0.3333333333333333,\"#9c179e\"],[0.4444444444444444,\"#bd3786\"],[0.5555555555555556,\"#d8576b\"],[0.6666666666666666,\"#ed7953\"],[0.7777777777777778,\"#fb9f3a\"],[0.8888888888888888,\"#fdca26\"],[1.0,\"#f0f921\"]]}],\"heatmapgl\":[{\"type\":\"heatmapgl\",\"colorbar\":{\"outlinewidth\":0,\"ticks\":\"\"},\"colorscale\":[[0.0,\"#0d0887\"],[0.1111111111111111,\"#46039f\"],[0.2222222222222222,\"#7201a8\"],[0.3333333333333333,\"#9c179e\"],[0.4444444444444444,\"#bd3786\"],[0.5555555555555556,\"#d8576b\"],[0.6666666666666666,\"#ed7953\"],[0.7777777777777778,\"#fb9f3a\"],[0.8888888888888888,\"#fdca26\"],[1.0,\"#f0f921\"]]}],\"contourcarpet\":[{\"type\":\"contourcarpet\",\"colorbar\":{\"outlinewidth\":0,\"ticks\":\"\"}}],\"contour\":[{\"type\":\"contour\",\"colorbar\":{\"outlinewidth\":0,\"ticks\":\"\"},\"colorscale\":[[0.0,\"#0d0887\"],[0.1111111111111111,\"#46039f\"],[0.2222222222222222,\"#7201a8\"],[0.3333333333333333,\"#9c179e\"],[0.4444444444444444,\"#bd3786\"],[0.5555555555555556,\"#d8576b\"],[0.6666666666666666,\"#ed7953\"],[0.7777777777777778,\"#fb9f3a\"],[0.8888888888888888,\"#fdca26\"],[1.0,\"#f0f921\"]]}],\"surface\":[{\"type\":\"surface\",\"colorbar\":{\"outlinewidth\":0,\"ticks\":\"\"},\"colorscale\":[[0.0,\"#0d0887\"],[0.1111111111111111,\"#46039f\"],[0.2222222222222222,\"#7201a8\"],[0.3333333333333333,\"#9c179e\"],[0.4444444444444444,\"#bd3786\"],[0.5555555555555556,\"#d8576b\"],[0.6666666666666666,\"#ed7953\"],[0.7777777777777778,\"#fb9f3a\"],[0.8888888888888888,\"#fdca26\"],[1.0,\"#f0f921\"]]}],\"mesh3d\":[{\"type\":\"mesh3d\",\"colorbar\":{\"outlinewidth\":0,\"ticks\":\"\"}}],\"scatter\":[{\"fillpattern\":{\"fillmode\":\"overlay\",\"size\":10,\"solidity\":0.2},\"type\":\"scatter\"}],\"parcoords\":[{\"type\":\"parcoords\",\"line\":{\"colorbar\":{\"outlinewidth\":0,\"ticks\":\"\"}}}],\"scatterpolargl\":[{\"type\":\"scatterpolargl\",\"marker\":{\"colorbar\":{\"outlinewidth\":0,\"ticks\":\"\"}}}],\"bar\":[{\"error_x\":{\"color\":\"#2a3f5f\"},\"error_y\":{\"color\":\"#2a3f5f\"},\"marker\":{\"line\":{\"color\":\"#E5ECF6\",\"width\":0.5},\"pattern\":{\"fillmode\":\"overlay\",\"size\":10,\"solidity\":0.2}},\"type\":\"bar\"}],\"scattergeo\":[{\"type\":\"scattergeo\",\"marker\":{\"colorbar\":{\"outlinewidth\":0,\"ticks\":\"\"}}}],\"scatterpolar\":[{\"type\":\"scatterpolar\",\"marker\":{\"colorbar\":{\"outlinewidth\":0,\"ticks\":\"\"}}}],\"histogram\":[{\"marker\":{\"pattern\":{\"fillmode\":\"overlay\",\"size\":10,\"solidity\":0.2}},\"type\":\"histogram\"}],\"scattergl\":[{\"type\":\"scattergl\",\"marker\":{\"colorbar\":{\"outlinewidth\":0,\"ticks\":\"\"}}}],\"scatter3d\":[{\"type\":\"scatter3d\",\"line\":{\"colorbar\":{\"outlinewidth\":0,\"ticks\":\"\"}},\"marker\":{\"colorbar\":{\"outlinewidth\":0,\"ticks\":\"\"}}}],\"scattermapbox\":[{\"type\":\"scattermapbox\",\"marker\":{\"colorbar\":{\"outlinewidth\":0,\"ticks\":\"\"}}}],\"scatterternary\":[{\"type\":\"scatterternary\",\"marker\":{\"colorbar\":{\"outlinewidth\":0,\"ticks\":\"\"}}}],\"scattercarpet\":[{\"type\":\"scattercarpet\",\"marker\":{\"colorbar\":{\"outlinewidth\":0,\"ticks\":\"\"}}}],\"carpet\":[{\"aaxis\":{\"endlinecolor\":\"#2a3f5f\",\"gridcolor\":\"white\",\"linecolor\":\"white\",\"minorgridcolor\":\"white\",\"startlinecolor\":\"#2a3f5f\"},\"baxis\":{\"endlinecolor\":\"#2a3f5f\",\"gridcolor\":\"white\",\"linecolor\":\"white\",\"minorgridcolor\":\"white\",\"startlinecolor\":\"#2a3f5f\"},\"type\":\"carpet\"}],\"table\":[{\"cells\":{\"fill\":{\"color\":\"#EBF0F8\"},\"line\":{\"color\":\"white\"}},\"header\":{\"fill\":{\"color\":\"#C8D4E3\"},\"line\":{\"color\":\"white\"}},\"type\":\"table\"}],\"barpolar\":[{\"marker\":{\"line\":{\"color\":\"#E5ECF6\",\"width\":0.5},\"pattern\":{\"fillmode\":\"overlay\",\"size\":10,\"solidity\":0.2}},\"type\":\"barpolar\"}],\"pie\":[{\"automargin\":true,\"type\":\"pie\"}]},\"layout\":{\"autotypenumbers\":\"strict\",\"colorway\":[\"#636efa\",\"#EF553B\",\"#00cc96\",\"#ab63fa\",\"#FFA15A\",\"#19d3f3\",\"#FF6692\",\"#B6E880\",\"#FF97FF\",\"#FECB52\"],\"font\":{\"color\":\"#2a3f5f\"},\"hovermode\":\"closest\",\"hoverlabel\":{\"align\":\"left\"},\"paper_bgcolor\":\"white\",\"plot_bgcolor\":\"#E5ECF6\",\"polar\":{\"bgcolor\":\"#E5ECF6\",\"angularaxis\":{\"gridcolor\":\"white\",\"linecolor\":\"white\",\"ticks\":\"\"},\"radialaxis\":{\"gridcolor\":\"white\",\"linecolor\":\"white\",\"ticks\":\"\"}},\"ternary\":{\"bgcolor\":\"#E5ECF6\",\"aaxis\":{\"gridcolor\":\"white\",\"linecolor\":\"white\",\"ticks\":\"\"},\"baxis\":{\"gridcolor\":\"white\",\"linecolor\":\"white\",\"ticks\":\"\"},\"caxis\":{\"gridcolor\":\"white\",\"linecolor\":\"white\",\"ticks\":\"\"}},\"coloraxis\":{\"colorbar\":{\"outlinewidth\":0,\"ticks\":\"\"}},\"colorscale\":{\"sequential\":[[0.0,\"#0d0887\"],[0.1111111111111111,\"#46039f\"],[0.2222222222222222,\"#7201a8\"],[0.3333333333333333,\"#9c179e\"],[0.4444444444444444,\"#bd3786\"],[0.5555555555555556,\"#d8576b\"],[0.6666666666666666,\"#ed7953\"],[0.7777777777777778,\"#fb9f3a\"],[0.8888888888888888,\"#fdca26\"],[1.0,\"#f0f921\"]],\"sequentialminus\":[[0.0,\"#0d0887\"],[0.1111111111111111,\"#46039f\"],[0.2222222222222222,\"#7201a8\"],[0.3333333333333333,\"#9c179e\"],[0.4444444444444444,\"#bd3786\"],[0.5555555555555556,\"#d8576b\"],[0.6666666666666666,\"#ed7953\"],[0.7777777777777778,\"#fb9f3a\"],[0.8888888888888888,\"#fdca26\"],[1.0,\"#f0f921\"]],\"diverging\":[[0,\"#8e0152\"],[0.1,\"#c51b7d\"],[0.2,\"#de77ae\"],[0.3,\"#f1b6da\"],[0.4,\"#fde0ef\"],[0.5,\"#f7f7f7\"],[0.6,\"#e6f5d0\"],[0.7,\"#b8e186\"],[0.8,\"#7fbc41\"],[0.9,\"#4d9221\"],[1,\"#276419\"]]},\"xaxis\":{\"gridcolor\":\"white\",\"linecolor\":\"white\",\"ticks\":\"\",\"title\":{\"standoff\":15},\"zerolinecolor\":\"white\",\"automargin\":true,\"zerolinewidth\":2},\"yaxis\":{\"gridcolor\":\"white\",\"linecolor\":\"white\",\"ticks\":\"\",\"title\":{\"standoff\":15},\"zerolinecolor\":\"white\",\"automargin\":true,\"zerolinewidth\":2},\"scene\":{\"xaxis\":{\"backgroundcolor\":\"#E5ECF6\",\"gridcolor\":\"white\",\"linecolor\":\"white\",\"showbackground\":true,\"ticks\":\"\",\"zerolinecolor\":\"white\",\"gridwidth\":2},\"yaxis\":{\"backgroundcolor\":\"#E5ECF6\",\"gridcolor\":\"white\",\"linecolor\":\"white\",\"showbackground\":true,\"ticks\":\"\",\"zerolinecolor\":\"white\",\"gridwidth\":2},\"zaxis\":{\"backgroundcolor\":\"#E5ECF6\",\"gridcolor\":\"white\",\"linecolor\":\"white\",\"showbackground\":true,\"ticks\":\"\",\"zerolinecolor\":\"white\",\"gridwidth\":2}},\"shapedefaults\":{\"line\":{\"color\":\"#2a3f5f\"}},\"annotationdefaults\":{\"arrowcolor\":\"#2a3f5f\",\"arrowhead\":0,\"arrowwidth\":1},\"geo\":{\"bgcolor\":\"white\",\"landcolor\":\"#E5ECF6\",\"subunitcolor\":\"white\",\"showland\":true,\"showlakes\":true,\"lakecolor\":\"white\"},\"title\":{\"x\":0.05},\"mapbox\":{\"style\":\"light\"}}},\"title\":{\"text\":\"Bitcoin\"},\"yaxis\":{\"title\":{\"text\":\"Price in USD\"}},\"xaxis\":{\"rangeslider\":{\"visible\":false},\"rangeselector\":{\"buttons\":[{\"count\":15,\"label\":\"15m\",\"step\":\"minute\",\"stepmode\":\"backward\"},{\"count\":45,\"label\":\"45m\",\"step\":\"minute\",\"stepmode\":\"backward\"},{\"count\":1,\"label\":\"HTD\",\"step\":\"hour\",\"stepmode\":\"todate\"},{\"count\":2,\"label\":\"2h\",\"step\":\"hour\",\"stepmode\":\"backward\"},{\"step\":\"all\"}]}}},                        {\"responsive\": true}                    ).then(function(){\n",
       "                            \n",
       "var gd = document.getElementById('9b3079c2-488b-44df-b657-dff4f554a9e7');\n",
       "var x = new MutationObserver(function (mutations, observer) {{\n",
       "        var display = window.getComputedStyle(gd).display;\n",
       "        if (!display || display === 'none') {{\n",
       "            console.log([gd, 'removed!']);\n",
       "            Plotly.purge(gd);\n",
       "            observer.disconnect();\n",
       "        }}\n",
       "}});\n",
       "\n",
       "// Listen for the removal of the full notebook cells\n",
       "var notebookContainer = gd.closest('#notebook-container');\n",
       "if (notebookContainer) {{\n",
       "    x.observe(notebookContainer, {childList: true});\n",
       "}}\n",
       "\n",
       "// Listen for the clearing of the current output cell\n",
       "var outputEl = gd.closest('.output');\n",
       "if (outputEl) {{\n",
       "    x.observe(outputEl, {childList: true});\n",
       "}}\n",
       "\n",
       "                        })                };                });            </script>        </div>"
      ]
     },
     "metadata": {},
     "output_type": "display_data"
    }
   ],
   "source": [
    "#Data Visualization\n",
    "import plotly.graph_objs as go\n",
    "\n",
    "#declare figure\n",
    "fig = go.Figure()\n",
    "\n",
    "#Candlestick\n",
    "fig.add_trace(go.Candlestick(x = data.index,\n",
    "                            open = data['Open'],\n",
    "                            high = data['High'],\n",
    "                            low = data['Low'],\n",
    "                            close = data['Close'], name = 'market data'))\n",
    "\n",
    "# Add Titles\n",
    "fig.update_layout(\n",
    "    title = \"Bitcoin\",\n",
    "    yaxis_title = \"Price in USD\")\n",
    "\n",
    "# X Axes\n",
    "fig.update_xaxes(\n",
    "    rangeslider_visible = False,\n",
    "    rangeselector = dict(\n",
    "        buttons = list([\n",
    "                dict(count=15, label = \"15m\", step = \"minute\", stepmode = \"backward\"),\n",
    "                dict(count=45, label = \"45m\", step = \"minute\", stepmode = \"backward\"),\n",
    "                dict(count=1, label = \"HTD\", step = \"hour\", stepmode = \"todate\"),\n",
    "                dict(count=2, label = \"2h\", step = \"hour\", stepmode = \"backward\"),\n",
    "                dict(step = \"all\")\n",
    "        ])))\n",
    "\n",
    "#Show\n",
    "fig.show()"
   ]
  },
  {
   "cell_type": "code",
   "execution_count": 53,
   "id": "ac63ff24-eeef-4d66-bd4b-9418d0b84476",
   "metadata": {},
   "outputs": [
    {
     "ename": "AttributeError",
     "evalue": "module 'matplotlib.pyplot' has no attribute 'levels'",
     "output_type": "error",
     "traceback": [
      "\u001b[1;31m---------------------------------------------------------------------------\u001b[0m",
      "\u001b[1;31mAttributeError\u001b[0m                            Traceback (most recent call last)",
      "\u001b[1;32m<ipython-input-53-fbf85386270f>\u001b[0m in \u001b[0;36m<module>\u001b[1;34m\u001b[0m\n\u001b[1;32m----> 1\u001b[1;33m \u001b[0mplt\u001b[0m\u001b[1;33m.\u001b[0m\u001b[0mlevels\u001b[0m\u001b[1;33m\u001b[0m\u001b[1;33m\u001b[0m\u001b[0m\n\u001b[0m",
      "\u001b[1;31mAttributeError\u001b[0m: module 'matplotlib.pyplot' has no attribute 'levels'"
     ]
    }
   ],
   "source": []
  }
 ],
 "metadata": {
  "kernelspec": {
   "display_name": "Python 3",
   "language": "python",
   "name": "python3"
  },
  "language_info": {
   "codemirror_mode": {
    "name": "ipython",
    "version": 3
   },
   "file_extension": ".py",
   "mimetype": "text/x-python",
   "name": "python",
   "nbconvert_exporter": "python",
   "pygments_lexer": "ipython3",
   "version": "3.8.8"
  }
 },
 "nbformat": 4,
 "nbformat_minor": 5
}
