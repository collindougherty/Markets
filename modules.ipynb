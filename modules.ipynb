{
 "cells": [
  {
   "cell_type": "markdown",
   "id": "d9adf4f1-8fc8-4ace-824e-3e8c29bbd994",
   "metadata": {},
   "source": [
    "# Testing the Packages I Built"
   ]
  },
  {
   "cell_type": "code",
   "execution_count": 45,
   "id": "4be0ad26-aa18-4a4c-b682-be8afc20acdb",
   "metadata": {},
   "outputs": [
    {
     "name": "stdout",
     "output_type": "stream",
     "text": [
      "The autoreload extension is already loaded. To reload it, use:\n",
      "  %reload_ext autoreload\n"
     ]
    }
   ],
   "source": [
    "%load_ext autoreload\n",
    "%autoreload 2\n",
    "%matplotlib inline\n",
    "\n",
    "import collin_risk as collin\n",
    "daily_returns = collin.get_stock_return_data(stocks = ['SPY', 'DIA'], start_date = '2018-01-01')\n",
    "cum_returns = collin.get_stock_cum_return_data(stocks = ['SPY', 'DIA'], start_date = '2018-01-01')\n",
    "covmat = collin.get_stock_return_data(stocks = ['SPY', 'DIA'], start_date = '2018-01-01').cov()\n",
    "ann_returns = collin.annualized_data(daily_returns)['Annualized Returns']"
   ]
  },
  {
   "cell_type": "code",
   "execution_count": 191,
   "id": "00c84e07-a5b3-4ea5-843d-04d4e3de7b5e",
   "metadata": {},
   "outputs": [
    {
     "data": {
      "text/plain": [
       "<AxesSubplot:title={'center':'Efficient Frontier'}, xlabel='Vol', ylabel='R'>"
      ]
     },
     "execution_count": 191,
     "metadata": {},
     "output_type": "execute_result"
    },
    {
     "data": {
      "image/png": "[encoded data removed]",
      "text/plain": [
       "<Figure size 432x288 with 1 Axes>"
      ]
     },
     "metadata": {
      "needs_background": "light"
     },
     "output_type": "display_data"
    }
   ],
   "source": [
    "collin.plot_ef(ann_returns, covmat, n_points = 30)"
   ]
  },
  {
   "cell_type": "code",
   "execution_count": 193,
   "id": "b710fb15-fa05-4db3-925a-1523a8706699",
   "metadata": {},
   "outputs": [
    {
     "data": {
      "text/plain": [
       "array([0.55698274, 0.44301726])"
      ]
     },
     "execution_count": 193,
     "metadata": {},
     "output_type": "execute_result"
    }
   ],
   "source": [
    "collin.minimize_vol(cum_returns, covmat, target_return = 4)"
   ]
  },
  {
   "cell_type": "code",
   "execution_count": 161,
   "id": "f27ccb11-d285-4140-95ae-9eda76b10770",
   "metadata": {},
   "outputs": [
    {
     "name": "stdout",
     "output_type": "stream",
     "text": [
      "[*********************100%***********************]  1 of 1 completed\n",
      "[*********************100%***********************]  1 of 1 completed\n",
      "[*********************100%***********************]  1 of 1 completed\n",
      "[*********************100%***********************]  1 of 1 completed\n"
     ]
    },
    {
     "data": {
      "text/plain": [
       "<AxesSubplot:title={'center':'Efficient Frontier'}, xlabel='Vol', ylabel='R'>"
      ]
     },
     "execution_count": 161,
     "metadata": {},
     "output_type": "execute_result"
    },
    {
     "data": {
      "image/png": "[encoded data removed]",
      "text/plain": [
       "<Figure size 432x288 with 1 Axes>"
      ]
     },
     "metadata": {
      "needs_background": "light"
     },
     "output_type": "display_data"
    }
   ],
   "source": [
    "collin.plot_efficient_frontier_2(stocks = ['AMZN', 'AAPL'], start_date = '2010-01-01')"
   ]
  },
  {
   "cell_type": "code",
   "execution_count": 183,
   "id": "58333ab4-1d32-479b-8692-852d194ce389",
   "metadata": {},
   "outputs": [
    {
     "name": "stdout",
     "output_type": "stream",
     "text": [
      "[*********************100%***********************]  1 of 1 completed\n",
      "[*********************100%***********************]  1 of 1 completed\n",
      "[*********************100%***********************]  1 of 1 completed\n"
     ]
    },
    {
     "data": {
      "text/html": [
       "<div>\n",
       "<style scoped>\n",
       "    .dataframe tbody tr th:only-of-type {\n",
       "        vertical-align: middle;\n",
       "    }\n",
       "\n",
       "    .dataframe tbody tr th {\n",
       "        vertical-align: top;\n",
       "    }\n",
       "\n",
       "    .dataframe thead th {\n",
       "        text-align: right;\n",
       "    }\n",
       "</style>\n",
       "<table border=\"1\" class=\"dataframe\">\n",
       "  <thead>\n",
       "    <tr style=\"text-align: right;\">\n",
       "      <th></th>\n",
       "      <th>Annualized Returns</th>\n",
       "      <th>Annualized Volatility</th>\n",
       "    </tr>\n",
       "  </thead>\n",
       "  <tbody>\n",
       "    <tr>\n",
       "      <th>AMZN</th>\n",
       "      <td>0.108852</td>\n",
       "      <td>0.321467</td>\n",
       "    </tr>\n",
       "    <tr>\n",
       "      <th>GOOG</th>\n",
       "      <td>0.079308</td>\n",
       "      <td>0.268661</td>\n",
       "    </tr>\n",
       "    <tr>\n",
       "      <th>AAPL</th>\n",
       "      <td>0.119167</td>\n",
       "      <td>0.288228</td>\n",
       "    </tr>\n",
       "  </tbody>\n",
       "</table>\n",
       "</div>"
      ],
      "text/plain": [
       "      Annualized Returns  Annualized Volatility\n",
       "AMZN            0.108852               0.321467\n",
       "GOOG            0.079308               0.268661\n",
       "AAPL            0.119167               0.288228"
      ]
     },
     "execution_count": 183,
     "metadata": {},
     "output_type": "execute_result"
    }
   ],
   "source": [
    "collin.annualized_data(stocks = ['AMZN', 'GOOG', 'AAPL'], start_date = '2010-01-01')"
   ]
  },
  {
   "cell_type": "code",
   "execution_count": 194,
   "id": "7ab865c2-b239-47c6-a371-6e8a4c9195a2",
   "metadata": {},
   "outputs": [
    {
     "data": {
      "text/plain": [
       "array([0.85328386, 0.14671614])"
      ]
     },
     "execution_count": 194,
     "metadata": {},
     "output_type": "execute_result"
    }
   ],
   "source": [
    "collin.gmv(covmat)"
   ]
  },
  {
   "cell_type": "code",
   "execution_count": 195,
   "id": "1f6467e7-948c-4e99-885d-eddb6e41db24",
   "metadata": {},
   "outputs": [
    {
     "data": {
      "text/plain": [
       "[<matplotlib.lines.Line2D at 0x270afee1fa0>]"
      ]
     },
     "execution_count": 195,
     "metadata": {},
     "output_type": "execute_result"
    },
    {
     "data": {
      "image/png": "[encoded data removed]",
      "text/plain": [
       "<Figure size 432x288 with 1 Axes>"
      ]
     },
     "metadata": {
      "needs_background": "light"
     },
     "output_type": "display_data"
    }
   ],
   "source": [
    "collin.plot_gmv(ann_returns, covmat)"
   ]
  },
  {
   "cell_type": "code",
   "execution_count": 196,
   "id": "62ec2a75-b644-4bb6-baa7-e66f0405733c",
   "metadata": {},
   "outputs": [
    {
     "data": {
      "text/plain": [
       "[<matplotlib.lines.Line2D at 0x270b014aca0>]"
      ]
     },
     "execution_count": 196,
     "metadata": {},
     "output_type": "execute_result"
    },
    {
     "data": {
      "image/png": "[encoded data removed]",
      "text/plain": [
       "<Figure size 432x288 with 1 Axes>"
      ]
     },
     "metadata": {
      "needs_background": "light"
     },
     "output_type": "display_data"
    }
   ],
   "source": [
    "collin.max_sharpe_plot(ann_returns, covmat)"
   ]
  }
 ],
 "metadata": {
  "kernelspec": {
   "display_name": "Python 3",
   "language": "python",
   "name": "python3"
  },
  "language_info": {
   "codemirror_mode": {
    "name": "ipython",
    "version": 3
   },
   "file_extension": ".py",
   "mimetype": "text/x-python",
   "name": "python",
   "nbconvert_exporter": "python",
   "pygments_lexer": "ipython3",
   "version": "3.8.8"
  }
 },
 "nbformat": 4,
 "nbformat_minor": 5
}
