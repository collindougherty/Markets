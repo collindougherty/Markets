{
 "cells": [
  {
   "cell_type": "code",
   "execution_count": 1,
   "metadata": {},
   "outputs": [],
   "source": [
    "# import popular libraries\n",
    "import numpy as np\n",
    "import pandas as pd\n",
    "import matplotlib.pyplot as plt\n",
    "import seaborn as sns\n",
    "import os\n",
    "import warnings\n",
    "warnings.filterwarnings('ignore')"
   ]
  },
  {
   "cell_type": "code",
   "execution_count": 4,
   "metadata": {},
   "outputs": [
    {
     "name": "stdout",
     "output_type": "stream",
     "text": [
      "[*********************100%***********************]  1 of 1 completed\n"
     ]
    }
   ],
   "source": [
    "import yfinance as yf\n",
    "\n",
    "# import daily stock data from the S&P 500\n",
    "sp500 = yf.download('^GSPC', start='2010-01-01', end='2021-12-31')"
   ]
  },
  {
   "cell_type": "code",
   "execution_count": 5,
   "metadata": {},
   "outputs": [
    {
     "data": {
      "text/html": [
       "<div>\n",
       "<style scoped>\n",
       "    .dataframe tbody tr th:only-of-type {\n",
       "        vertical-align: middle;\n",
       "    }\n",
       "\n",
       "    .dataframe tbody tr th {\n",
       "        vertical-align: top;\n",
       "    }\n",
       "\n",
       "    .dataframe thead th {\n",
       "        text-align: right;\n",
       "    }\n",
       "</style>\n",
       "<table border=\"1\" class=\"dataframe\">\n",
       "  <thead>\n",
       "    <tr style=\"text-align: right;\">\n",
       "      <th></th>\n",
       "      <th>Open</th>\n",
       "      <th>High</th>\n",
       "      <th>Low</th>\n",
       "      <th>Close</th>\n",
       "      <th>Adj Close</th>\n",
       "      <th>Volume</th>\n",
       "    </tr>\n",
       "    <tr>\n",
       "      <th>Date</th>\n",
       "      <th></th>\n",
       "      <th></th>\n",
       "      <th></th>\n",
       "      <th></th>\n",
       "      <th></th>\n",
       "      <th></th>\n",
       "    </tr>\n",
       "  </thead>\n",
       "  <tbody>\n",
       "    <tr>\n",
       "      <th>2010-01-04</th>\n",
       "      <td>1116.560059</td>\n",
       "      <td>1133.869995</td>\n",
       "      <td>1116.560059</td>\n",
       "      <td>1132.989990</td>\n",
       "      <td>1132.989990</td>\n",
       "      <td>3991400000</td>\n",
       "    </tr>\n",
       "    <tr>\n",
       "      <th>2010-01-05</th>\n",
       "      <td>1132.660034</td>\n",
       "      <td>1136.630005</td>\n",
       "      <td>1129.660034</td>\n",
       "      <td>1136.520020</td>\n",
       "      <td>1136.520020</td>\n",
       "      <td>2491020000</td>\n",
       "    </tr>\n",
       "    <tr>\n",
       "      <th>2010-01-06</th>\n",
       "      <td>1135.709961</td>\n",
       "      <td>1139.189941</td>\n",
       "      <td>1133.949951</td>\n",
       "      <td>1137.140015</td>\n",
       "      <td>1137.140015</td>\n",
       "      <td>4972660000</td>\n",
       "    </tr>\n",
       "    <tr>\n",
       "      <th>2010-01-07</th>\n",
       "      <td>1136.270020</td>\n",
       "      <td>1142.459961</td>\n",
       "      <td>1131.319946</td>\n",
       "      <td>1141.689941</td>\n",
       "      <td>1141.689941</td>\n",
       "      <td>5270680000</td>\n",
       "    </tr>\n",
       "    <tr>\n",
       "      <th>2010-01-08</th>\n",
       "      <td>1140.520020</td>\n",
       "      <td>1145.390015</td>\n",
       "      <td>1136.219971</td>\n",
       "      <td>1144.979980</td>\n",
       "      <td>1144.979980</td>\n",
       "      <td>4389590000</td>\n",
       "    </tr>\n",
       "    <tr>\n",
       "      <th>...</th>\n",
       "      <td>...</td>\n",
       "      <td>...</td>\n",
       "      <td>...</td>\n",
       "      <td>...</td>\n",
       "      <td>...</td>\n",
       "      <td>...</td>\n",
       "    </tr>\n",
       "    <tr>\n",
       "      <th>2021-12-23</th>\n",
       "      <td>4703.959961</td>\n",
       "      <td>4740.740234</td>\n",
       "      <td>4703.959961</td>\n",
       "      <td>4725.790039</td>\n",
       "      <td>4725.790039</td>\n",
       "      <td>2194630000</td>\n",
       "    </tr>\n",
       "    <tr>\n",
       "      <th>2021-12-27</th>\n",
       "      <td>4733.990234</td>\n",
       "      <td>4791.490234</td>\n",
       "      <td>4733.990234</td>\n",
       "      <td>4791.189941</td>\n",
       "      <td>4791.189941</td>\n",
       "      <td>2264120000</td>\n",
       "    </tr>\n",
       "    <tr>\n",
       "      <th>2021-12-28</th>\n",
       "      <td>4795.490234</td>\n",
       "      <td>4807.020020</td>\n",
       "      <td>4780.040039</td>\n",
       "      <td>4786.350098</td>\n",
       "      <td>4786.350098</td>\n",
       "      <td>2217050000</td>\n",
       "    </tr>\n",
       "    <tr>\n",
       "      <th>2021-12-29</th>\n",
       "      <td>4788.640137</td>\n",
       "      <td>4804.060059</td>\n",
       "      <td>4778.080078</td>\n",
       "      <td>4793.060059</td>\n",
       "      <td>4793.060059</td>\n",
       "      <td>2369370000</td>\n",
       "    </tr>\n",
       "    <tr>\n",
       "      <th>2021-12-30</th>\n",
       "      <td>4794.229980</td>\n",
       "      <td>4808.930176</td>\n",
       "      <td>4775.330078</td>\n",
       "      <td>4778.729980</td>\n",
       "      <td>4778.729980</td>\n",
       "      <td>2390990000</td>\n",
       "    </tr>\n",
       "  </tbody>\n",
       "</table>\n",
       "<p>3020 rows × 6 columns</p>\n",
       "</div>"
      ],
      "text/plain": [
       "                   Open         High          Low        Close    Adj Close  \\\n",
       "Date                                                                          \n",
       "2010-01-04  1116.560059  1133.869995  1116.560059  1132.989990  1132.989990   \n",
       "2010-01-05  1132.660034  1136.630005  1129.660034  1136.520020  1136.520020   \n",
       "2010-01-06  1135.709961  1139.189941  1133.949951  1137.140015  1137.140015   \n",
       "2010-01-07  1136.270020  1142.459961  1131.319946  1141.689941  1141.689941   \n",
       "2010-01-08  1140.520020  1145.390015  1136.219971  1144.979980  1144.979980   \n",
       "...                 ...          ...          ...          ...          ...   \n",
       "2021-12-23  4703.959961  4740.740234  4703.959961  4725.790039  4725.790039   \n",
       "2021-12-27  4733.990234  4791.490234  4733.990234  4791.189941  4791.189941   \n",
       "2021-12-28  4795.490234  4807.020020  4780.040039  4786.350098  4786.350098   \n",
       "2021-12-29  4788.640137  4804.060059  4778.080078  4793.060059  4793.060059   \n",
       "2021-12-30  4794.229980  4808.930176  4775.330078  4778.729980  4778.729980   \n",
       "\n",
       "                Volume  \n",
       "Date                    \n",
       "2010-01-04  3991400000  \n",
       "2010-01-05  2491020000  \n",
       "2010-01-06  4972660000  \n",
       "2010-01-07  5270680000  \n",
       "2010-01-08  4389590000  \n",
       "...                ...  \n",
       "2021-12-23  2194630000  \n",
       "2021-12-27  2264120000  \n",
       "2021-12-28  2217050000  \n",
       "2021-12-29  2369370000  \n",
       "2021-12-30  2390990000  \n",
       "\n",
       "[3020 rows x 6 columns]"
      ]
     },
     "execution_count": 5,
     "metadata": {},
     "output_type": "execute_result"
    }
   ],
   "source": [
    "sp500"
   ]
  },
  {
   "cell_type": "code",
   "execution_count": 6,
   "metadata": {},
   "outputs": [],
   "source": [
    "# calculate daily returns\n",
    "sp500['daily_return'] = sp500['Adj Close'].pct_change()"
   ]
  },
  {
   "cell_type": "code",
   "execution_count": 7,
   "metadata": {},
   "outputs": [],
   "source": [
    "# calculate cumulative returns\n",
    "sp500['cumulative_return'] = (1 + sp500['daily_return']).cumprod()"
   ]
  },
  {
   "cell_type": "code",
   "execution_count": 8,
   "metadata": {},
   "outputs": [
    {
     "data": {
      "text/plain": [
       "count    3019.000000\n",
       "mean        0.000536\n",
       "std         0.010818\n",
       "min        -0.119841\n",
       "25%        -0.003477\n",
       "50%         0.000709\n",
       "75%         0.005399\n",
       "max         0.093828\n",
       "Name: daily_return, dtype: float64"
      ]
     },
     "execution_count": 8,
     "metadata": {},
     "output_type": "execute_result"
    }
   ],
   "source": [
    "# describe the daily returns\n",
    "sp500['daily_return'].describe()"
   ]
  },
  {
   "cell_type": "code",
   "execution_count": 9,
   "metadata": {},
   "outputs": [
    {
     "data": {
      "text/plain": [
       "Timestamp('2020-03-24 00:00:00')"
      ]
     },
     "execution_count": 9,
     "metadata": {},
     "output_type": "execute_result"
    }
   ],
   "source": [
    "# what day had the largest daily return?\n",
    "sp500['daily_return'].idxmax()"
   ]
  },
  {
   "cell_type": "code",
   "execution_count": 11,
   "metadata": {},
   "outputs": [
    {
     "data": {
      "text/plain": [
       "Timestamp('2020-03-23 00:00:00')"
      ]
     },
     "execution_count": 11,
     "metadata": {},
     "output_type": "execute_result"
    }
   ],
   "source": [
    "# filter the data for 2020\n",
    "sp500_2020 = sp500.loc['2020-01-01':'2020-12-31']\n",
    "# when was the low for the stock market?\n",
    "sp500_2020['Adj Close'].idxmin()"
   ]
  },
  {
   "cell_type": "markdown",
   "metadata": {},
   "source": [
    "#### On CNBC the day after the Bottom\n",
    "###### Many on Wall Street believe absent a clear sign that the coronavirus is contained, rallies like the 10% violent upswing in the Dow Tuesday will come and go. “We’re going to need to have to see the infections pass an inflection point,” said Vincent Reinhart, chief economist at BNY Asset Management. The market has received help from monetary policy and looks on its way to aid from the fiscal side, but market experts see no clear path forward without signs the coronavirus is passing. – Li, Cox"
   ]
  },
  {
   "cell_type": "code",
   "execution_count": 12,
   "metadata": {},
   "outputs": [
    {
     "data": {
      "text/plain": [
       "0.010818363793744285"
      ]
     },
     "execution_count": 12,
     "metadata": {},
     "output_type": "execute_result"
    }
   ],
   "source": [
    "# measure the volatility of the stock market\n",
    "sp500['daily_return'].std()"
   ]
  },
  {
   "cell_type": "code",
   "execution_count": 14,
   "metadata": {},
   "outputs": [
    {
     "data": {
      "text/plain": [
       "0.17173620114523586"
      ]
     },
     "execution_count": 14,
     "metadata": {},
     "output_type": "execute_result"
    }
   ],
   "source": [
    "# annualize the volatility\n",
    "sp500['daily_return'].std() * np.sqrt(252)"
   ]
  },
  {
   "cell_type": "code",
   "execution_count": 15,
   "metadata": {},
   "outputs": [
    {
     "data": {
      "text/plain": [
       "0.1349809649739508"
      ]
     },
     "execution_count": 15,
     "metadata": {},
     "output_type": "execute_result"
    }
   ],
   "source": [
    "# annualize the returns\n",
    "sp500['daily_return'].mean() * 252"
   ]
  },
  {
   "cell_type": "code",
   "execution_count": 16,
   "metadata": {},
   "outputs": [
    {
     "data": {
      "text/plain": [
       "0.7859785186455739"
      ]
     },
     "execution_count": 16,
     "metadata": {},
     "output_type": "execute_result"
    }
   ],
   "source": [
    "# divide the annual returns by the annual volatility\n",
    "sp500['daily_return'].mean() * 252 / (sp500['daily_return'].std() * np.sqrt(252))"
   ]
  },
  {
   "cell_type": "code",
   "execution_count": null,
   "metadata": {},
   "outputs": [],
   "source": [
    "# google, what is a good sharpe ratio?\n",
    "# https://www.investopedia.com/terms/s/sharperatio.asp"
   ]
  },
  {
   "cell_type": "code",
   "execution_count": 17,
   "metadata": {},
   "outputs": [
    {
     "name": "stdout",
     "output_type": "stream",
     "text": [
      "[*********************100%***********************]  1 of 1 completed\n"
     ]
    }
   ],
   "source": [
    "# let's get stock data since 1980\n",
    "sp500 = yf.download('^GSPC', start='1980-01-01', end='2021-12-31')"
   ]
  },
  {
   "cell_type": "code",
   "execution_count": 23,
   "metadata": {},
   "outputs": [
    {
     "data": {
      "image/png": "[encoded data removed]",
      "text/plain": [
       "<Figure size 800x575 with 4 Axes>"
      ]
     },
     "metadata": {},
     "output_type": "display_data"
    }
   ],
   "source": [
    "# add bolinger bands\n",
    "sp500['20d_ma'] = sp500['Adj Close'].rolling(window=20).mean()\n",
    "sp500['20d_std'] = sp500['Adj Close'].rolling(window=20).std()\n",
    "sp500['upper_band'] = sp500['20d_ma'] + (sp500['20d_std'] * 2)\n",
    "sp500['lower_band'] = sp500['20d_ma'] - (sp500['20d_std'] * 2)\n",
    "\n",
    "# plot the data in a candlestick chart\n",
    "import mplfinance as mpf\n",
    "mpf.plot(sp500, type='candle', style='yahoo', mav=(20, 50, 200), volume=True)"
   ]
  },
  {
   "cell_type": "code",
   "execution_count": 24,
   "metadata": {},
   "outputs": [
    {
     "name": "stdout",
     "output_type": "stream",
     "text": [
      "[*********************100%***********************]  1 of 1 completed\n",
      "0.4955082742316785\n",
      "[[438 544]\n",
      " [523 610]]\n",
      "              precision    recall  f1-score   support\n",
      "\n",
      "           0       0.46      0.45      0.45       982\n",
      "           1       0.53      0.54      0.53      1133\n",
      "\n",
      "    accuracy                           0.50      2115\n",
      "   macro avg       0.49      0.49      0.49      2115\n",
      "weighted avg       0.49      0.50      0.50      2115\n",
      "\n"
     ]
    }
   ],
   "source": [
    "# lets predict the stock market\n",
    "# import the data\n",
    "sp500 = yf.download('^GSPC', start='1980-01-01', end='2021-12-31')\n",
    "\n",
    "# add bolinger bands\n",
    "sp500['20d_ma'] = sp500['Adj Close'].rolling(window=20).mean()\n",
    "sp500['20d_std'] = sp500['Adj Close'].rolling(window=20).std()\n",
    "sp500['upper_band'] = sp500['20d_ma'] + (sp500['20d_std'] * 2)\n",
    "sp500['lower_band'] = sp500['20d_ma'] - (sp500['20d_std'] * 2)\n",
    "\n",
    "# add the target variable\n",
    "sp500['target'] = np.where(sp500['Adj Close'].shift(-1) > sp500['Adj Close'], 1, 0)\n",
    "\n",
    "# drop the na values\n",
    "sp500.dropna(inplace=True)\n",
    "\n",
    "# split the data into train and test\n",
    "from sklearn.model_selection import train_test_split\n",
    "\n",
    "X = sp500[['20d_ma', '20d_std', 'upper_band', 'lower_band']]\n",
    "y = sp500['target']\n",
    "\n",
    "X_train, X_test, y_train, y_test = train_test_split(X, y, test_size=0.2, random_state=42)\n",
    "\n",
    "# import the model\n",
    "from sklearn.ensemble import RandomForestClassifier\n",
    "\n",
    "# instantiate the model\n",
    "rf = RandomForestClassifier()\n",
    "\n",
    "# fit the model\n",
    "rf.fit(X_train, y_train)\n",
    "\n",
    "# predict the test data\n",
    "y_pred = rf.predict(X_test)\n",
    "\n",
    "# evaluate the model\n",
    "from sklearn.metrics import accuracy_score, confusion_matrix, classification_report\n",
    "\n",
    "print(accuracy_score(y_test, y_pred))\n",
    "print(confusion_matrix(y_test, y_pred))\n",
    "print(classification_report(y_test, y_pred))"
   ]
  }
 ],
 "metadata": {
  "kernelspec": {
   "display_name": "Python 3.9.12 ('base')",
   "language": "python",
   "name": "python3"
  },
  "language_info": {
   "codemirror_mode": {
    "name": "ipython",
    "version": 3
   },
   "file_extension": ".py",
   "mimetype": "text/x-python",
   "name": "python",
   "nbconvert_exporter": "python",
   "pygments_lexer": "ipython3",
   "version": "3.9.12"
  },
  "orig_nbformat": 4,
  "vscode": {
   "interpreter": {
    "hash": "017eb2bca735f32fca2f44a927396237c1971b19329cf36cd663baa75805e2d8"
   }
  }
 },
 "nbformat": 4,
 "nbformat_minor": 2
}
