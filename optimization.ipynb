{
 "cells": [
  {
   "cell_type": "markdown",
   "id": "c4f9b555-3dee-44ee-bafb-5356dbb9bb60",
   "metadata": {},
   "source": [
    "# Optimization and the Efficient Frontier"
   ]
  },
  {
   "cell_type": "code",
   "execution_count": 99,
   "id": "12bb165e-2087-4a27-a52d-7cb1114fc33a",
   "metadata": {},
   "outputs": [
    {
     "name": "stdout",
     "output_type": "stream",
     "text": [
      "The autoreload extension is already loaded. To reload it, use:\n",
      "  %reload_ext autoreload\n"
     ]
    }
   ],
   "source": [
    "%load_ext autoreload\n",
    "%autoreload 2\n",
    "%matplotlib inline\n",
    "\n",
    "import collin_risk as collin"
   ]
  },
  {
   "cell_type": "code",
   "execution_count": 124,
   "id": "0a3d1f20-b72b-445a-898b-27607ccbff7e",
   "metadata": {},
   "outputs": [
    {
     "name": "stdout",
     "output_type": "stream",
     "text": [
      "[*********************100%***********************]  1 of 1 completed\n",
      "[*********************100%***********************]  1 of 1 completed\n",
      "[*********************100%***********************]  1 of 1 completed\n",
      "[*********************100%***********************]  1 of 1 completed\n",
      "[*********************100%***********************]  1 of 1 completed\n",
      "[*********************100%***********************]  1 of 1 completed\n"
     ]
    }
   ],
   "source": [
    "daily_returns = collin.get_stock_return_data(stocks = ['SPY', 'DIA'], start_date = '2018-01-01')\n",
    "cum_returns = collin.get_stock_cum_return_data(stocks = ['SPY', 'DIA'], start_date = '2018-01-01')\n",
    "covmat = collin.get_stock_return_data(stocks = ['SPY', 'DIA'], start_date = '2018-01-01').cov()\n",
    "ann_returns = collin.annualized_data(daily_returns)['Annualized Returns']"
   ]
  },
  {
   "cell_type": "code",
   "execution_count": 12,
   "id": "2d00c626-019e-4697-a2ab-20c6f04b871f",
   "metadata": {},
   "outputs": [
    {
     "name": "stdout",
     "output_type": "stream",
     "text": [
      "[*********************100%***********************]  1 of 1 completed\n",
      "[*********************100%***********************]  1 of 1 completed\n",
      "[*********************100%***********************]  1 of 1 completed\n",
      "[*********************100%***********************]  1 of 1 completed\n"
     ]
    },
    {
     "data": {
      "text/plain": [
       "<AxesSubplot:title={'center':'Efficient Frontier'}, xlabel='Vol', ylabel='R'>"
      ]
     },
     "execution_count": 12,
     "metadata": {},
     "output_type": "execute_result"
    },
    {
     "data": {
      "image/png": "[encoded data removed]",
      "text/plain": [
       "<Figure size 432x288 with 1 Axes>"
      ]
     },
     "metadata": {
      "needs_background": "light"
     },
     "output_type": "display_data"
    }
   ],
   "source": [
    "collin.plot_efficient_frontier_2(stocks = ['AMZN', 'AAPL'], start_date = '2010-01-01')"
   ]
  },
  {
   "cell_type": "code",
   "execution_count": 75,
   "id": "b4e4d821-d1c7-40d2-84d4-b6b90eeee85b",
   "metadata": {},
   "outputs": [
    {
     "data": {
      "text/plain": [
       "<AxesSubplot:title={'center':'Efficient Frontier'}, xlabel='Vol', ylabel='R'>"
      ]
     },
     "execution_count": 75,
     "metadata": {},
     "output_type": "execute_result"
    },
    {
     "data": {
      "image/png": "[encoded data removed]",
      "text/plain": [
       "<Figure size 432x288 with 1 Axes>"
      ]
     },
     "metadata": {
      "needs_background": "light"
     },
     "output_type": "display_data"
    }
   ],
   "source": [
    "collin.plot_ef(cum_returns, covmat, n_points = 30)"
   ]
  },
  {
   "cell_type": "code",
   "execution_count": 88,
   "id": "29ddd42b-2f37-4249-9a86-ec1667649e45",
   "metadata": {},
   "outputs": [
    {
     "data": {
      "text/html": [
       "<div>\n",
       "<style scoped>\n",
       "    .dataframe tbody tr th:only-of-type {\n",
       "        vertical-align: middle;\n",
       "    }\n",
       "\n",
       "    .dataframe tbody tr th {\n",
       "        vertical-align: top;\n",
       "    }\n",
       "\n",
       "    .dataframe thead th {\n",
       "        text-align: right;\n",
       "    }\n",
       "</style>\n",
       "<table border=\"1\" class=\"dataframe\">\n",
       "  <thead>\n",
       "    <tr style=\"text-align: right;\">\n",
       "      <th></th>\n",
       "      <th>Annualized Returns</th>\n",
       "      <th>Annualized Volatility</th>\n",
       "    </tr>\n",
       "  </thead>\n",
       "  <tbody>\n",
       "    <tr>\n",
       "      <th>SPY</th>\n",
       "      <td>0.078245</td>\n",
       "      <td>0.213723</td>\n",
       "    </tr>\n",
       "    <tr>\n",
       "      <th>DIA</th>\n",
       "      <td>0.047835</td>\n",
       "      <td>0.219038</td>\n",
       "    </tr>\n",
       "  </tbody>\n",
       "</table>\n",
       "</div>"
      ],
      "text/plain": [
       "     Annualized Returns  Annualized Volatility\n",
       "SPY            0.078245               0.213723\n",
       "DIA            0.047835               0.219038"
      ]
     },
     "execution_count": 88,
     "metadata": {},
     "output_type": "execute_result"
    }
   ],
   "source": [
    "collin.annualized_data(daily_returns)"
   ]
  },
  {
   "cell_type": "code",
   "execution_count": 77,
   "id": "b0a5fa42-fdca-4c53-824d-afbbc757128e",
   "metadata": {},
   "outputs": [
    {
     "data": {
      "text/plain": [
       "array([1., 0.])"
      ]
     },
     "execution_count": 77,
     "metadata": {},
     "output_type": "execute_result"
    }
   ],
   "source": [
    "collin.maximize_sharpe_ratio(cum_returns, covmat, risk_free_rate = 0.03)"
   ]
  },
  {
   "cell_type": "code",
   "execution_count": 108,
   "id": "d82217af-2903-4c94-b890-cbb66cabbb57",
   "metadata": {},
   "outputs": [
    {
     "data": {
      "text/plain": [
       "[<matplotlib.lines.Line2D at 0x1bf8b00e880>]"
      ]
     },
     "execution_count": 108,
     "metadata": {},
     "output_type": "execute_result"
    },
    {
     "data": {
      "image/png": "[encoded data removed]",
      "text/plain": [
       "<Figure size 432x288 with 1 Axes>"
      ]
     },
     "metadata": {
      "needs_background": "light"
     },
     "output_type": "display_data"
    }
   ],
   "source": [
    "collin.max_sharpe_plot(ann_returns, covmat, risk_free_rate = 0.03)"
   ]
  },
  {
   "cell_type": "code",
   "execution_count": 112,
   "id": "1e40bbb0-404c-4553-8254-1a19c31a6b20",
   "metadata": {},
   "outputs": [
    {
     "data": {
      "text/plain": [
       "[<matplotlib.lines.Line2D at 0x1bf8b0746d0>]"
      ]
     },
     "execution_count": 112,
     "metadata": {},
     "output_type": "execute_result"
    },
    {
     "data": {
      "image/png": "[encoded data removed]",
      "text/plain": [
       "<Figure size 432x288 with 1 Axes>"
      ]
     },
     "metadata": {
      "needs_background": "light"
     },
     "output_type": "display_data"
    }
   ],
   "source": [
    "plot = collin.plot_ef(ann_returns, covmat, n_points = 30)\n",
    "#plot.set_xlim(left=0)\n",
    "risk_free_rate = risk_free_rate\n",
    "w_msr = collin.maximize_sharpe_ratio(ann_returns, covmat, risk_free_rate)\n",
    "r_msr = collin.portfolio_return(w_msr, ann_returns)\n",
    "vol_msr = collin.portfolio_vol(w_msr, covmat)\n",
    "# Add CML (capital market line)\n",
    "#cml_x = [0, vol_msr]\n",
    "#cml_y = [risk_free_rate, r_msr]\n",
    "cml_x = [vol_msr]\n",
    "cml_y = [r_msr]\n",
    "plot.plot(cml_x, cml_y, color = 'red', marker = 'o', linestyle = 'dashed', markersize =10)"
   ]
  },
  {
   "cell_type": "code",
   "execution_count": 137,
   "id": "d0b0d2c9-cb9e-45b1-a9a5-0a0f69538d1a",
   "metadata": {},
   "outputs": [
    {
     "data": {
      "text/plain": [
       "[<matplotlib.lines.Line2D at 0x1bf8b140730>]"
      ]
     },
     "execution_count": 137,
     "metadata": {},
     "output_type": "execute_result"
    },
    {
     "data": {
      "image/png": "[encoded data removed]",
      "text/plain": [
       "<Figure size 432x288 with 1 Axes>"
      ]
     },
     "metadata": {
      "needs_background": "light"
     },
     "output_type": "display_data"
    }
   ],
   "source": [
    "collin.plot_gmv(ann_returns, covmat)"
   ]
  }
 ],
 "metadata": {
  "kernelspec": {
   "display_name": "Python 3",
   "language": "python",
   "name": "python3"
  },
  "language_info": {
   "codemirror_mode": {
    "name": "ipython",
    "version": 3
   },
   "file_extension": ".py",
   "mimetype": "text/x-python",
   "name": "python",
   "nbconvert_exporter": "python",
   "pygments_lexer": "ipython3",
   "version": "3.8.8"
  }
 },
 "nbformat": 4,
 "nbformat_minor": 5
}
