{
 "cells": [
  {
   "cell_type": "markdown",
   "id": "e46c285c-46f0-4b9b-ae70-85a41ce9c150",
   "metadata": {},
   "source": [
    "# Dynamic Hedging"
   ]
  },
  {
   "cell_type": "markdown",
   "id": "0f8442eb-9b9a-43e4-9d28-cbecf2c8f1c2",
   "metadata": {},
   "source": [
    "Idea behind dynamic hedging: to be risk on when the margin of error is wide and risk off when the margin for error is narrow."
   ]
  },
  {
   "cell_type": "code",
   "execution_count": 4,
   "id": "84833164-6f61-4a3a-a85e-e6f4cc63f7d4",
   "metadata": {},
   "outputs": [
    {
     "name": "stdout",
     "output_type": "stream",
     "text": [
      "The autoreload extension is already loaded. To reload it, use:\n",
      "  %reload_ext autoreload\n",
      "[*********************100%***********************]  1 of 1 completed\n",
      "[*********************100%***********************]  1 of 1 completed\n",
      "[*********************100%***********************]  1 of 1 completed\n",
      "[*********************100%***********************]  1 of 1 completed\n",
      "[*********************100%***********************]  1 of 1 completed\n",
      "[*********************100%***********************]  1 of 1 completed\n",
      "[*********************100%***********************]  1 of 1 completed\n",
      "[*********************100%***********************]  1 of 1 completed\n",
      "[*********************100%***********************]  1 of 1 completed\n",
      "[*********************100%***********************]  1 of 1 completed\n",
      "[*********************100%***********************]  1 of 1 completed\n",
      "[*********************100%***********************]  1 of 1 completed\n"
     ]
    }
   ],
   "source": [
    "%load_ext autoreload\n",
    "%autoreload 2\n",
    "%matplotlib inline\n",
    "\n",
    "import collin_risk as collin\n",
    "stocks = ['SPY', 'DIA', 'QQQ']\n",
    "start_date = '1990-01-01'\n",
    "daily_close = collin.get_stock_close_data(stocks, start_date)\n",
    "daily_returns = collin.get_stock_return_data(stocks, start_date)\n",
    "cum_returns = collin.get_stock_cum_return_data(stocks, start_date)\n",
    "covmat = collin.get_stock_return_data(stocks, start_date).cov()\n",
    "ann_returns = collin.annualized_data(daily_returns)['Annualized Returns']"
   ]
  },
  {
   "cell_type": "code",
   "execution_count": 5,
   "id": "4933502b-5016-4f11-ac6c-aa702b469a65",
   "metadata": {},
   "outputs": [
    {
     "data": {
      "text/html": [
       "<div>\n",
       "<style scoped>\n",
       "    .dataframe tbody tr th:only-of-type {\n",
       "        vertical-align: middle;\n",
       "    }\n",
       "\n",
       "    .dataframe tbody tr th {\n",
       "        vertical-align: top;\n",
       "    }\n",
       "\n",
       "    .dataframe thead th {\n",
       "        text-align: right;\n",
       "    }\n",
       "</style>\n",
       "<table border=\"1\" class=\"dataframe\">\n",
       "  <thead>\n",
       "    <tr style=\"text-align: right;\">\n",
       "      <th></th>\n",
       "      <th>SPY</th>\n",
       "      <th>DIA</th>\n",
       "      <th>QQQ</th>\n",
       "    </tr>\n",
       "  </thead>\n",
       "  <tbody>\n",
       "    <tr>\n",
       "      <th>1999-03-10</th>\n",
       "      <td>129.187500</td>\n",
       "      <td>97.937500</td>\n",
       "      <td>51.062500</td>\n",
       "    </tr>\n",
       "    <tr>\n",
       "      <th>1999-03-11</th>\n",
       "      <td>130.625000</td>\n",
       "      <td>99.312500</td>\n",
       "      <td>51.312500</td>\n",
       "    </tr>\n",
       "    <tr>\n",
       "      <th>1999-03-12</th>\n",
       "      <td>129.375000</td>\n",
       "      <td>98.640625</td>\n",
       "      <td>50.062500</td>\n",
       "    </tr>\n",
       "    <tr>\n",
       "      <th>1999-03-15</th>\n",
       "      <td>131.218750</td>\n",
       "      <td>99.734375</td>\n",
       "      <td>51.500000</td>\n",
       "    </tr>\n",
       "    <tr>\n",
       "      <th>1999-03-16</th>\n",
       "      <td>130.718750</td>\n",
       "      <td>99.437500</td>\n",
       "      <td>51.937500</td>\n",
       "    </tr>\n",
       "    <tr>\n",
       "      <th>...</th>\n",
       "      <td>...</td>\n",
       "      <td>...</td>\n",
       "      <td>...</td>\n",
       "    </tr>\n",
       "    <tr>\n",
       "      <th>2022-07-08</th>\n",
       "      <td>388.670013</td>\n",
       "      <td>313.459991</td>\n",
       "      <td>295.350006</td>\n",
       "    </tr>\n",
       "    <tr>\n",
       "      <th>2022-07-11</th>\n",
       "      <td>384.230011</td>\n",
       "      <td>311.700012</td>\n",
       "      <td>289.040009</td>\n",
       "    </tr>\n",
       "    <tr>\n",
       "      <th>2022-07-12</th>\n",
       "      <td>380.829987</td>\n",
       "      <td>309.970001</td>\n",
       "      <td>286.239990</td>\n",
       "    </tr>\n",
       "    <tr>\n",
       "      <th>2022-07-13</th>\n",
       "      <td>378.829987</td>\n",
       "      <td>307.750000</td>\n",
       "      <td>285.649994</td>\n",
       "    </tr>\n",
       "    <tr>\n",
       "      <th>2022-07-14</th>\n",
       "      <td>377.910004</td>\n",
       "      <td>306.399994</td>\n",
       "      <td>286.670013</td>\n",
       "    </tr>\n",
       "  </tbody>\n",
       "</table>\n",
       "<p>5876 rows × 3 columns</p>\n",
       "</div>"
      ],
      "text/plain": [
       "                   SPY         DIA         QQQ\n",
       "1999-03-10  129.187500   97.937500   51.062500\n",
       "1999-03-11  130.625000   99.312500   51.312500\n",
       "1999-03-12  129.375000   98.640625   50.062500\n",
       "1999-03-15  131.218750   99.734375   51.500000\n",
       "1999-03-16  130.718750   99.437500   51.937500\n",
       "...                ...         ...         ...\n",
       "2022-07-08  388.670013  313.459991  295.350006\n",
       "2022-07-11  384.230011  311.700012  289.040009\n",
       "2022-07-12  380.829987  309.970001  286.239990\n",
       "2022-07-13  378.829987  307.750000  285.649994\n",
       "2022-07-14  377.910004  306.399994  286.670013\n",
       "\n",
       "[5876 rows x 3 columns]"
      ]
     },
     "execution_count": 5,
     "metadata": {},
     "output_type": "execute_result"
    }
   ],
   "source": [
    "daily_close"
   ]
  }
 ],
 "metadata": {
  "kernelspec": {
   "display_name": "Python 3",
   "language": "python",
   "name": "python3"
  },
  "language_info": {
   "codemirror_mode": {
    "name": "ipython",
    "version": 3
   },
   "file_extension": ".py",
   "mimetype": "text/x-python",
   "name": "python",
   "nbconvert_exporter": "python",
   "pygments_lexer": "ipython3",
   "version": "3.8.8"
  }
 },
 "nbformat": 4,
 "nbformat_minor": 5
}
